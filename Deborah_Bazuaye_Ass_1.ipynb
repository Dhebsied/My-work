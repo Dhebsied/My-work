{
  "cells": [
    {
      "cell_type": "code",
      "execution_count": 25,
      "metadata": {
        "id": "t3dY9E5TgyVH"
      },
      "outputs": [],
      "source": [
        "import pandas as pd\n",
        "import numpy as np"
      ]
    },
    {
      "cell_type": "code",
      "execution_count": 26,
      "metadata": {
        "id": "wFTwG_8dg6YE",
        "colab": {
          "base_uri": "https://localhost:8080/"
        },
        "outputId": "c217c521-7a76-4f8a-b33c-02d127098370"
      },
      "outputs": [
        {
          "output_type": "stream",
          "name": "stdout",
          "text": [
            "<class 'pandas.core.frame.DataFrame'>\n",
            "RangeIndex: 150000 entries, 0 to 149999\n",
            "Data columns (total 26 columns):\n",
            " #   Column                 Non-Null Count   Dtype  \n",
            "---  ------                 --------------   -----  \n",
            " 0   account_age_days       149892 non-null  float64\n",
            " 1   transaction_amt        149870 non-null  float64\n",
            " 2   transaction_adj_amt    149886 non-null  float64\n",
            " 3   historic_velocity      149885 non-null  float64\n",
            " 4   ip_address             149873 non-null  object \n",
            " 5   user_agent             149887 non-null  object \n",
            " 6   email_domain           149910 non-null  object \n",
            " 7   phone_number           149873 non-null  object \n",
            " 8   billing_city           149884 non-null  object \n",
            " 9   billing_postal         149876 non-null  float64\n",
            " 10  billing_state          149887 non-null  object \n",
            " 11  card_bin               149872 non-null  float64\n",
            " 12  currency               149892 non-null  object \n",
            " 13  cvv                    149877 non-null  object \n",
            " 14  signature_image        149895 non-null  object \n",
            " 15  transaction_type       149884 non-null  object \n",
            " 16  transaction_env        149877 non-null  object \n",
            " 17  EVENT_TIMESTAMP        149888 non-null  object \n",
            " 18  applicant_name         149857 non-null  object \n",
            " 19  billing_address        149866 non-null  object \n",
            " 20  merchant_id            149893 non-null  object \n",
            " 21  locale                 149866 non-null  object \n",
            " 22  tranaction_initiate    149874 non-null  object \n",
            " 23  days_since_last_logon  149864 non-null  float64\n",
            " 24  inital_amount          149872 non-null  float64\n",
            " 25  EVENT_LABEL            150000 non-null  object \n",
            "dtypes: float64(8), object(18)\n",
            "memory usage: 29.8+ MB\n"
          ]
        }
      ],
      "source": [
        "dataset = \"fraud_challenge_150k.csv\"\n",
        "df=pd.read_csv(dataset)\n",
        "df.info()"
      ]
    },
    {
      "cell_type": "code",
      "execution_count": 27,
      "metadata": {
        "id": "f2ux3Jsdko26",
        "colab": {
          "base_uri": "https://localhost:8080/",
          "height": 300
        },
        "outputId": "32929384-feb1-4ebf-a0bc-16c579cdd064"
      },
      "outputs": [
        {
          "output_type": "execute_result",
          "data": {
            "text/plain": [
              "   account_age_days  transaction_amt  transaction_adj_amt  historic_velocity  \\\n",
              "0            3371.0           2167.0                 56.0             2572.0   \n",
              "1            2714.0           2045.0                 48.0             4517.0   \n",
              "\n",
              "      ip_address                                         user_agent  \\\n",
              "0  154.68.49.124  Opera/9.81.(Windows NT 10.0; ht-HT) Presto/2.9...   \n",
              "1  39.131.125.85  Opera/9.76.(X11; Linux i686; mi-NZ) Presto/2.9...   \n",
              "\n",
              "        email_domain   phone_number billing_city  billing_postal  ...  \\\n",
              "0    perez-garza.com   878-111-5140   Woodsburgh         96336.0  ...   \n",
              "1  mcneil-ortega.com  (002)736-0139   West Kevin         78083.0  ...   \n",
              "\n",
              "  transaction_env  EVENT_TIMESTAMP applicant_name    billing_address  \\\n",
              "0               X  12/29/2020 9:05   Linda Wright  4684 Sharon Ranch   \n",
              "1               W  6/22/2021 18:05   Terri Rivera  7642 Allison Ramp   \n",
              "\n",
              "   merchant_id  locale tranaction_initiate days_since_last_logon  \\\n",
              "0  066-82-8795  niu_NZ                   O                  59.0   \n",
              "1  669-99-9459  apn_IN                   J                   0.0   \n",
              "\n",
              "  inital_amount EVENT_LABEL  \n",
              "0       13646.0       legit  \n",
              "1       11930.0       legit  \n",
              "\n",
              "[2 rows x 26 columns]"
            ],
            "text/html": [
              "\n",
              "  <div id=\"df-f09c76c0-a5de-45e5-a45d-b4b61153d894\" class=\"colab-df-container\">\n",
              "    <div>\n",
              "<style scoped>\n",
              "    .dataframe tbody tr th:only-of-type {\n",
              "        vertical-align: middle;\n",
              "    }\n",
              "\n",
              "    .dataframe tbody tr th {\n",
              "        vertical-align: top;\n",
              "    }\n",
              "\n",
              "    .dataframe thead th {\n",
              "        text-align: right;\n",
              "    }\n",
              "</style>\n",
              "<table border=\"1\" class=\"dataframe\">\n",
              "  <thead>\n",
              "    <tr style=\"text-align: right;\">\n",
              "      <th></th>\n",
              "      <th>account_age_days</th>\n",
              "      <th>transaction_amt</th>\n",
              "      <th>transaction_adj_amt</th>\n",
              "      <th>historic_velocity</th>\n",
              "      <th>ip_address</th>\n",
              "      <th>user_agent</th>\n",
              "      <th>email_domain</th>\n",
              "      <th>phone_number</th>\n",
              "      <th>billing_city</th>\n",
              "      <th>billing_postal</th>\n",
              "      <th>...</th>\n",
              "      <th>transaction_env</th>\n",
              "      <th>EVENT_TIMESTAMP</th>\n",
              "      <th>applicant_name</th>\n",
              "      <th>billing_address</th>\n",
              "      <th>merchant_id</th>\n",
              "      <th>locale</th>\n",
              "      <th>tranaction_initiate</th>\n",
              "      <th>days_since_last_logon</th>\n",
              "      <th>inital_amount</th>\n",
              "      <th>EVENT_LABEL</th>\n",
              "    </tr>\n",
              "  </thead>\n",
              "  <tbody>\n",
              "    <tr>\n",
              "      <th>0</th>\n",
              "      <td>3371.0</td>\n",
              "      <td>2167.0</td>\n",
              "      <td>56.0</td>\n",
              "      <td>2572.0</td>\n",
              "      <td>154.68.49.124</td>\n",
              "      <td>Opera/9.81.(Windows NT 10.0; ht-HT) Presto/2.9...</td>\n",
              "      <td>perez-garza.com</td>\n",
              "      <td>878-111-5140</td>\n",
              "      <td>Woodsburgh</td>\n",
              "      <td>96336.0</td>\n",
              "      <td>...</td>\n",
              "      <td>X</td>\n",
              "      <td>12/29/2020 9:05</td>\n",
              "      <td>Linda Wright</td>\n",
              "      <td>4684 Sharon Ranch</td>\n",
              "      <td>066-82-8795</td>\n",
              "      <td>niu_NZ</td>\n",
              "      <td>O</td>\n",
              "      <td>59.0</td>\n",
              "      <td>13646.0</td>\n",
              "      <td>legit</td>\n",
              "    </tr>\n",
              "    <tr>\n",
              "      <th>1</th>\n",
              "      <td>2714.0</td>\n",
              "      <td>2045.0</td>\n",
              "      <td>48.0</td>\n",
              "      <td>4517.0</td>\n",
              "      <td>39.131.125.85</td>\n",
              "      <td>Opera/9.76.(X11; Linux i686; mi-NZ) Presto/2.9...</td>\n",
              "      <td>mcneil-ortega.com</td>\n",
              "      <td>(002)736-0139</td>\n",
              "      <td>West Kevin</td>\n",
              "      <td>78083.0</td>\n",
              "      <td>...</td>\n",
              "      <td>W</td>\n",
              "      <td>6/22/2021 18:05</td>\n",
              "      <td>Terri Rivera</td>\n",
              "      <td>7642 Allison Ramp</td>\n",
              "      <td>669-99-9459</td>\n",
              "      <td>apn_IN</td>\n",
              "      <td>J</td>\n",
              "      <td>0.0</td>\n",
              "      <td>11930.0</td>\n",
              "      <td>legit</td>\n",
              "    </tr>\n",
              "  </tbody>\n",
              "</table>\n",
              "<p>2 rows × 26 columns</p>\n",
              "</div>\n",
              "    <div class=\"colab-df-buttons\">\n",
              "\n",
              "  <div class=\"colab-df-container\">\n",
              "    <button class=\"colab-df-convert\" onclick=\"convertToInteractive('df-f09c76c0-a5de-45e5-a45d-b4b61153d894')\"\n",
              "            title=\"Convert this dataframe to an interactive table.\"\n",
              "            style=\"display:none;\">\n",
              "\n",
              "  <svg xmlns=\"http://www.w3.org/2000/svg\" height=\"24px\" viewBox=\"0 -960 960 960\">\n",
              "    <path d=\"M120-120v-720h720v720H120Zm60-500h600v-160H180v160Zm220 220h160v-160H400v160Zm0 220h160v-160H400v160ZM180-400h160v-160H180v160Zm440 0h160v-160H620v160ZM180-180h160v-160H180v160Zm440 0h160v-160H620v160Z\"/>\n",
              "  </svg>\n",
              "    </button>\n",
              "\n",
              "  <style>\n",
              "    .colab-df-container {\n",
              "      display:flex;\n",
              "      gap: 12px;\n",
              "    }\n",
              "\n",
              "    .colab-df-convert {\n",
              "      background-color: #E8F0FE;\n",
              "      border: none;\n",
              "      border-radius: 50%;\n",
              "      cursor: pointer;\n",
              "      display: none;\n",
              "      fill: #1967D2;\n",
              "      height: 32px;\n",
              "      padding: 0 0 0 0;\n",
              "      width: 32px;\n",
              "    }\n",
              "\n",
              "    .colab-df-convert:hover {\n",
              "      background-color: #E2EBFA;\n",
              "      box-shadow: 0px 1px 2px rgba(60, 64, 67, 0.3), 0px 1px 3px 1px rgba(60, 64, 67, 0.15);\n",
              "      fill: #174EA6;\n",
              "    }\n",
              "\n",
              "    .colab-df-buttons div {\n",
              "      margin-bottom: 4px;\n",
              "    }\n",
              "\n",
              "    [theme=dark] .colab-df-convert {\n",
              "      background-color: #3B4455;\n",
              "      fill: #D2E3FC;\n",
              "    }\n",
              "\n",
              "    [theme=dark] .colab-df-convert:hover {\n",
              "      background-color: #434B5C;\n",
              "      box-shadow: 0px 1px 3px 1px rgba(0, 0, 0, 0.15);\n",
              "      filter: drop-shadow(0px 1px 2px rgba(0, 0, 0, 0.3));\n",
              "      fill: #FFFFFF;\n",
              "    }\n",
              "  </style>\n",
              "\n",
              "    <script>\n",
              "      const buttonEl =\n",
              "        document.querySelector('#df-f09c76c0-a5de-45e5-a45d-b4b61153d894 button.colab-df-convert');\n",
              "      buttonEl.style.display =\n",
              "        google.colab.kernel.accessAllowed ? 'block' : 'none';\n",
              "\n",
              "      async function convertToInteractive(key) {\n",
              "        const element = document.querySelector('#df-f09c76c0-a5de-45e5-a45d-b4b61153d894');\n",
              "        const dataTable =\n",
              "          await google.colab.kernel.invokeFunction('convertToInteractive',\n",
              "                                                    [key], {});\n",
              "        if (!dataTable) return;\n",
              "\n",
              "        const docLinkHtml = 'Like what you see? Visit the ' +\n",
              "          '<a target=\"_blank\" href=https://colab.research.google.com/notebooks/data_table.ipynb>data table notebook</a>'\n",
              "          + ' to learn more about interactive tables.';\n",
              "        element.innerHTML = '';\n",
              "        dataTable['output_type'] = 'display_data';\n",
              "        await google.colab.output.renderOutput(dataTable, element);\n",
              "        const docLink = document.createElement('div');\n",
              "        docLink.innerHTML = docLinkHtml;\n",
              "        element.appendChild(docLink);\n",
              "      }\n",
              "    </script>\n",
              "  </div>\n",
              "\n",
              "\n",
              "<div id=\"df-b58c73ea-0e87-44a8-848f-c64afdd78b91\">\n",
              "  <button class=\"colab-df-quickchart\" onclick=\"quickchart('df-b58c73ea-0e87-44a8-848f-c64afdd78b91')\"\n",
              "            title=\"Suggest charts\"\n",
              "            style=\"display:none;\">\n",
              "\n",
              "<svg xmlns=\"http://www.w3.org/2000/svg\" height=\"24px\"viewBox=\"0 0 24 24\"\n",
              "     width=\"24px\">\n",
              "    <g>\n",
              "        <path d=\"M19 3H5c-1.1 0-2 .9-2 2v14c0 1.1.9 2 2 2h14c1.1 0 2-.9 2-2V5c0-1.1-.9-2-2-2zM9 17H7v-7h2v7zm4 0h-2V7h2v10zm4 0h-2v-4h2v4z\"/>\n",
              "    </g>\n",
              "</svg>\n",
              "  </button>\n",
              "\n",
              "<style>\n",
              "  .colab-df-quickchart {\n",
              "      --bg-color: #E8F0FE;\n",
              "      --fill-color: #1967D2;\n",
              "      --hover-bg-color: #E2EBFA;\n",
              "      --hover-fill-color: #174EA6;\n",
              "      --disabled-fill-color: #AAA;\n",
              "      --disabled-bg-color: #DDD;\n",
              "  }\n",
              "\n",
              "  [theme=dark] .colab-df-quickchart {\n",
              "      --bg-color: #3B4455;\n",
              "      --fill-color: #D2E3FC;\n",
              "      --hover-bg-color: #434B5C;\n",
              "      --hover-fill-color: #FFFFFF;\n",
              "      --disabled-bg-color: #3B4455;\n",
              "      --disabled-fill-color: #666;\n",
              "  }\n",
              "\n",
              "  .colab-df-quickchart {\n",
              "    background-color: var(--bg-color);\n",
              "    border: none;\n",
              "    border-radius: 50%;\n",
              "    cursor: pointer;\n",
              "    display: none;\n",
              "    fill: var(--fill-color);\n",
              "    height: 32px;\n",
              "    padding: 0;\n",
              "    width: 32px;\n",
              "  }\n",
              "\n",
              "  .colab-df-quickchart:hover {\n",
              "    background-color: var(--hover-bg-color);\n",
              "    box-shadow: 0 1px 2px rgba(60, 64, 67, 0.3), 0 1px 3px 1px rgba(60, 64, 67, 0.15);\n",
              "    fill: var(--button-hover-fill-color);\n",
              "  }\n",
              "\n",
              "  .colab-df-quickchart-complete:disabled,\n",
              "  .colab-df-quickchart-complete:disabled:hover {\n",
              "    background-color: var(--disabled-bg-color);\n",
              "    fill: var(--disabled-fill-color);\n",
              "    box-shadow: none;\n",
              "  }\n",
              "\n",
              "  .colab-df-spinner {\n",
              "    border: 2px solid var(--fill-color);\n",
              "    border-color: transparent;\n",
              "    border-bottom-color: var(--fill-color);\n",
              "    animation:\n",
              "      spin 1s steps(1) infinite;\n",
              "  }\n",
              "\n",
              "  @keyframes spin {\n",
              "    0% {\n",
              "      border-color: transparent;\n",
              "      border-bottom-color: var(--fill-color);\n",
              "      border-left-color: var(--fill-color);\n",
              "    }\n",
              "    20% {\n",
              "      border-color: transparent;\n",
              "      border-left-color: var(--fill-color);\n",
              "      border-top-color: var(--fill-color);\n",
              "    }\n",
              "    30% {\n",
              "      border-color: transparent;\n",
              "      border-left-color: var(--fill-color);\n",
              "      border-top-color: var(--fill-color);\n",
              "      border-right-color: var(--fill-color);\n",
              "    }\n",
              "    40% {\n",
              "      border-color: transparent;\n",
              "      border-right-color: var(--fill-color);\n",
              "      border-top-color: var(--fill-color);\n",
              "    }\n",
              "    60% {\n",
              "      border-color: transparent;\n",
              "      border-right-color: var(--fill-color);\n",
              "    }\n",
              "    80% {\n",
              "      border-color: transparent;\n",
              "      border-right-color: var(--fill-color);\n",
              "      border-bottom-color: var(--fill-color);\n",
              "    }\n",
              "    90% {\n",
              "      border-color: transparent;\n",
              "      border-bottom-color: var(--fill-color);\n",
              "    }\n",
              "  }\n",
              "</style>\n",
              "\n",
              "  <script>\n",
              "    async function quickchart(key) {\n",
              "      const quickchartButtonEl =\n",
              "        document.querySelector('#' + key + ' button');\n",
              "      quickchartButtonEl.disabled = true;  // To prevent multiple clicks.\n",
              "      quickchartButtonEl.classList.add('colab-df-spinner');\n",
              "      try {\n",
              "        const charts = await google.colab.kernel.invokeFunction(\n",
              "            'suggestCharts', [key], {});\n",
              "      } catch (error) {\n",
              "        console.error('Error during call to suggestCharts:', error);\n",
              "      }\n",
              "      quickchartButtonEl.classList.remove('colab-df-spinner');\n",
              "      quickchartButtonEl.classList.add('colab-df-quickchart-complete');\n",
              "    }\n",
              "    (() => {\n",
              "      let quickchartButtonEl =\n",
              "        document.querySelector('#df-b58c73ea-0e87-44a8-848f-c64afdd78b91 button');\n",
              "      quickchartButtonEl.style.display =\n",
              "        google.colab.kernel.accessAllowed ? 'block' : 'none';\n",
              "    })();\n",
              "  </script>\n",
              "</div>\n",
              "    </div>\n",
              "  </div>\n"
            ],
            "application/vnd.google.colaboratory.intrinsic+json": {
              "type": "dataframe",
              "variable_name": "df"
            }
          },
          "metadata": {},
          "execution_count": 27
        }
      ],
      "source": [
        "#Inspect data\n",
        " # 0   account_age_days       [numerical]\n",
        " # 1   transaction_amt        [numerical]\n",
        " # 2   transaction_adj_amt    [numerical]\n",
        " # 3   historic_velocity      [numerical]\n",
        " # 4   ip_address             149873 non-null  object\n",
        " # 5   user_agent             149887 non-null  object\n",
        " # 6   email_domain           149910 non-null  object\n",
        " # 7   phone_number           149873 non-null  object\n",
        " # 8   billing_city           149884 non-null  object\n",
        " # 9   billing_postal         [numerical]\n",
        " # 10  billing_state          149887 non-null  object\n",
        " # 11  card_bin               [numerical]\n",
        " # 12  currency               149892 non-null  object\n",
        " # 13  cvv                    149877 non-null  object\n",
        " # 14  signature_image        149895 non-null  object\n",
        " # 15  transaction_type       149884 non-null  object\n",
        " # 16  transaction_env        149877 non-null  object\n",
        " # 17  EVENT_TIMESTAMP        149888 non-null  object\n",
        " # 18  applicant_name        149857 non-null  object\n",
        " # 19  billing_address        149866 non-null  object\n",
        " # 20  merchant_id            149893 non-null  object\n",
        " # 21  locale                 149866 non-null  object\n",
        " # 22  tranaction_initiate    149874 non-null  object\n",
        " # 23  days_since_last_logon  [numerical]\n",
        " # 24  inital_amount          [numerical]\n",
        " # 25  EVENT_LABEL            (0 = Legit, 1 = Fraud)  [numerical]\n",
        "df.head(2)"
      ]
    },
    {
      "cell_type": "code",
      "execution_count": 28,
      "metadata": {
        "id": "l3H-1fmZms6N",
        "colab": {
          "base_uri": "https://localhost:8080/",
          "height": 278
        },
        "outputId": "cde281fc-f7ad-4d25-c668-31cf5fcd6e2c"
      },
      "outputs": [
        {
          "output_type": "execute_result",
          "data": {
            "text/plain": [
              "   account_age_days  transaction_amt  transaction_adj_amt  historic_velocity  \\\n",
              "0            3371.0           2167.0                 56.0             2572.0   \n",
              "1            2714.0           2045.0                 48.0             4517.0   \n",
              "2            6987.0           2892.0                 61.0             5007.0   \n",
              "3            2712.0           3040.0                 28.0             6022.0   \n",
              "4            3598.0           2976.0                 66.0             2600.0   \n",
              "\n",
              "       ip_address           phone_number  billing_postal  card_bin currency  \\\n",
              "0   154.68.49.124           878-111-5140         96336.0   40771.0      cad   \n",
              "1   39.131.125.85          (002)736-0139         78083.0   24480.0      cad   \n",
              "2  166.245.194.83      (983)585-2863x652         83236.0   37778.0      cad   \n",
              "3   100.1.217.216  +1-678-897-3420x60738         78364.0   55790.0      usd   \n",
              "4  113.156.65.245    (013)204-1766x92641         77499.0   37370.0      cad   \n",
              "\n",
              "   EVENT_TIMESTAMP  merchant_id  days_since_last_logon  inital_amount  \\\n",
              "0  12/29/2020 9:05  066-82-8795                   59.0        13646.0   \n",
              "1  6/22/2021 18:05  669-99-9459                    0.0        11930.0   \n",
              "2  5/10/2021 13:48  086-41-1624                   83.0         7412.0   \n",
              "3   3/11/2021 7:36  669-97-4021                   24.0         4623.0   \n",
              "4   3/27/2021 6:13  088-21-6329                   21.0         1905.0   \n",
              "\n",
              "  EVENT_LABEL  \n",
              "0       legit  \n",
              "1       legit  \n",
              "2       legit  \n",
              "3       legit  \n",
              "4       legit  "
            ],
            "text/html": [
              "\n",
              "  <div id=\"df-6b50ebdf-8eae-4155-9936-6c861b396f94\" class=\"colab-df-container\">\n",
              "    <div>\n",
              "<style scoped>\n",
              "    .dataframe tbody tr th:only-of-type {\n",
              "        vertical-align: middle;\n",
              "    }\n",
              "\n",
              "    .dataframe tbody tr th {\n",
              "        vertical-align: top;\n",
              "    }\n",
              "\n",
              "    .dataframe thead th {\n",
              "        text-align: right;\n",
              "    }\n",
              "</style>\n",
              "<table border=\"1\" class=\"dataframe\">\n",
              "  <thead>\n",
              "    <tr style=\"text-align: right;\">\n",
              "      <th></th>\n",
              "      <th>account_age_days</th>\n",
              "      <th>transaction_amt</th>\n",
              "      <th>transaction_adj_amt</th>\n",
              "      <th>historic_velocity</th>\n",
              "      <th>ip_address</th>\n",
              "      <th>phone_number</th>\n",
              "      <th>billing_postal</th>\n",
              "      <th>card_bin</th>\n",
              "      <th>currency</th>\n",
              "      <th>EVENT_TIMESTAMP</th>\n",
              "      <th>merchant_id</th>\n",
              "      <th>days_since_last_logon</th>\n",
              "      <th>inital_amount</th>\n",
              "      <th>EVENT_LABEL</th>\n",
              "    </tr>\n",
              "  </thead>\n",
              "  <tbody>\n",
              "    <tr>\n",
              "      <th>0</th>\n",
              "      <td>3371.0</td>\n",
              "      <td>2167.0</td>\n",
              "      <td>56.0</td>\n",
              "      <td>2572.0</td>\n",
              "      <td>154.68.49.124</td>\n",
              "      <td>878-111-5140</td>\n",
              "      <td>96336.0</td>\n",
              "      <td>40771.0</td>\n",
              "      <td>cad</td>\n",
              "      <td>12/29/2020 9:05</td>\n",
              "      <td>066-82-8795</td>\n",
              "      <td>59.0</td>\n",
              "      <td>13646.0</td>\n",
              "      <td>legit</td>\n",
              "    </tr>\n",
              "    <tr>\n",
              "      <th>1</th>\n",
              "      <td>2714.0</td>\n",
              "      <td>2045.0</td>\n",
              "      <td>48.0</td>\n",
              "      <td>4517.0</td>\n",
              "      <td>39.131.125.85</td>\n",
              "      <td>(002)736-0139</td>\n",
              "      <td>78083.0</td>\n",
              "      <td>24480.0</td>\n",
              "      <td>cad</td>\n",
              "      <td>6/22/2021 18:05</td>\n",
              "      <td>669-99-9459</td>\n",
              "      <td>0.0</td>\n",
              "      <td>11930.0</td>\n",
              "      <td>legit</td>\n",
              "    </tr>\n",
              "    <tr>\n",
              "      <th>2</th>\n",
              "      <td>6987.0</td>\n",
              "      <td>2892.0</td>\n",
              "      <td>61.0</td>\n",
              "      <td>5007.0</td>\n",
              "      <td>166.245.194.83</td>\n",
              "      <td>(983)585-2863x652</td>\n",
              "      <td>83236.0</td>\n",
              "      <td>37778.0</td>\n",
              "      <td>cad</td>\n",
              "      <td>5/10/2021 13:48</td>\n",
              "      <td>086-41-1624</td>\n",
              "      <td>83.0</td>\n",
              "      <td>7412.0</td>\n",
              "      <td>legit</td>\n",
              "    </tr>\n",
              "    <tr>\n",
              "      <th>3</th>\n",
              "      <td>2712.0</td>\n",
              "      <td>3040.0</td>\n",
              "      <td>28.0</td>\n",
              "      <td>6022.0</td>\n",
              "      <td>100.1.217.216</td>\n",
              "      <td>+1-678-897-3420x60738</td>\n",
              "      <td>78364.0</td>\n",
              "      <td>55790.0</td>\n",
              "      <td>usd</td>\n",
              "      <td>3/11/2021 7:36</td>\n",
              "      <td>669-97-4021</td>\n",
              "      <td>24.0</td>\n",
              "      <td>4623.0</td>\n",
              "      <td>legit</td>\n",
              "    </tr>\n",
              "    <tr>\n",
              "      <th>4</th>\n",
              "      <td>3598.0</td>\n",
              "      <td>2976.0</td>\n",
              "      <td>66.0</td>\n",
              "      <td>2600.0</td>\n",
              "      <td>113.156.65.245</td>\n",
              "      <td>(013)204-1766x92641</td>\n",
              "      <td>77499.0</td>\n",
              "      <td>37370.0</td>\n",
              "      <td>cad</td>\n",
              "      <td>3/27/2021 6:13</td>\n",
              "      <td>088-21-6329</td>\n",
              "      <td>21.0</td>\n",
              "      <td>1905.0</td>\n",
              "      <td>legit</td>\n",
              "    </tr>\n",
              "  </tbody>\n",
              "</table>\n",
              "</div>\n",
              "    <div class=\"colab-df-buttons\">\n",
              "\n",
              "  <div class=\"colab-df-container\">\n",
              "    <button class=\"colab-df-convert\" onclick=\"convertToInteractive('df-6b50ebdf-8eae-4155-9936-6c861b396f94')\"\n",
              "            title=\"Convert this dataframe to an interactive table.\"\n",
              "            style=\"display:none;\">\n",
              "\n",
              "  <svg xmlns=\"http://www.w3.org/2000/svg\" height=\"24px\" viewBox=\"0 -960 960 960\">\n",
              "    <path d=\"M120-120v-720h720v720H120Zm60-500h600v-160H180v160Zm220 220h160v-160H400v160Zm0 220h160v-160H400v160ZM180-400h160v-160H180v160Zm440 0h160v-160H620v160ZM180-180h160v-160H180v160Zm440 0h160v-160H620v160Z\"/>\n",
              "  </svg>\n",
              "    </button>\n",
              "\n",
              "  <style>\n",
              "    .colab-df-container {\n",
              "      display:flex;\n",
              "      gap: 12px;\n",
              "    }\n",
              "\n",
              "    .colab-df-convert {\n",
              "      background-color: #E8F0FE;\n",
              "      border: none;\n",
              "      border-radius: 50%;\n",
              "      cursor: pointer;\n",
              "      display: none;\n",
              "      fill: #1967D2;\n",
              "      height: 32px;\n",
              "      padding: 0 0 0 0;\n",
              "      width: 32px;\n",
              "    }\n",
              "\n",
              "    .colab-df-convert:hover {\n",
              "      background-color: #E2EBFA;\n",
              "      box-shadow: 0px 1px 2px rgba(60, 64, 67, 0.3), 0px 1px 3px 1px rgba(60, 64, 67, 0.15);\n",
              "      fill: #174EA6;\n",
              "    }\n",
              "\n",
              "    .colab-df-buttons div {\n",
              "      margin-bottom: 4px;\n",
              "    }\n",
              "\n",
              "    [theme=dark] .colab-df-convert {\n",
              "      background-color: #3B4455;\n",
              "      fill: #D2E3FC;\n",
              "    }\n",
              "\n",
              "    [theme=dark] .colab-df-convert:hover {\n",
              "      background-color: #434B5C;\n",
              "      box-shadow: 0px 1px 3px 1px rgba(0, 0, 0, 0.15);\n",
              "      filter: drop-shadow(0px 1px 2px rgba(0, 0, 0, 0.3));\n",
              "      fill: #FFFFFF;\n",
              "    }\n",
              "  </style>\n",
              "\n",
              "    <script>\n",
              "      const buttonEl =\n",
              "        document.querySelector('#df-6b50ebdf-8eae-4155-9936-6c861b396f94 button.colab-df-convert');\n",
              "      buttonEl.style.display =\n",
              "        google.colab.kernel.accessAllowed ? 'block' : 'none';\n",
              "\n",
              "      async function convertToInteractive(key) {\n",
              "        const element = document.querySelector('#df-6b50ebdf-8eae-4155-9936-6c861b396f94');\n",
              "        const dataTable =\n",
              "          await google.colab.kernel.invokeFunction('convertToInteractive',\n",
              "                                                    [key], {});\n",
              "        if (!dataTable) return;\n",
              "\n",
              "        const docLinkHtml = 'Like what you see? Visit the ' +\n",
              "          '<a target=\"_blank\" href=https://colab.research.google.com/notebooks/data_table.ipynb>data table notebook</a>'\n",
              "          + ' to learn more about interactive tables.';\n",
              "        element.innerHTML = '';\n",
              "        dataTable['output_type'] = 'display_data';\n",
              "        await google.colab.output.renderOutput(dataTable, element);\n",
              "        const docLink = document.createElement('div');\n",
              "        docLink.innerHTML = docLinkHtml;\n",
              "        element.appendChild(docLink);\n",
              "      }\n",
              "    </script>\n",
              "  </div>\n",
              "\n",
              "\n",
              "<div id=\"df-66b2596a-e4e9-48f0-a893-078f0f87a570\">\n",
              "  <button class=\"colab-df-quickchart\" onclick=\"quickchart('df-66b2596a-e4e9-48f0-a893-078f0f87a570')\"\n",
              "            title=\"Suggest charts\"\n",
              "            style=\"display:none;\">\n",
              "\n",
              "<svg xmlns=\"http://www.w3.org/2000/svg\" height=\"24px\"viewBox=\"0 0 24 24\"\n",
              "     width=\"24px\">\n",
              "    <g>\n",
              "        <path d=\"M19 3H5c-1.1 0-2 .9-2 2v14c0 1.1.9 2 2 2h14c1.1 0 2-.9 2-2V5c0-1.1-.9-2-2-2zM9 17H7v-7h2v7zm4 0h-2V7h2v10zm4 0h-2v-4h2v4z\"/>\n",
              "    </g>\n",
              "</svg>\n",
              "  </button>\n",
              "\n",
              "<style>\n",
              "  .colab-df-quickchart {\n",
              "      --bg-color: #E8F0FE;\n",
              "      --fill-color: #1967D2;\n",
              "      --hover-bg-color: #E2EBFA;\n",
              "      --hover-fill-color: #174EA6;\n",
              "      --disabled-fill-color: #AAA;\n",
              "      --disabled-bg-color: #DDD;\n",
              "  }\n",
              "\n",
              "  [theme=dark] .colab-df-quickchart {\n",
              "      --bg-color: #3B4455;\n",
              "      --fill-color: #D2E3FC;\n",
              "      --hover-bg-color: #434B5C;\n",
              "      --hover-fill-color: #FFFFFF;\n",
              "      --disabled-bg-color: #3B4455;\n",
              "      --disabled-fill-color: #666;\n",
              "  }\n",
              "\n",
              "  .colab-df-quickchart {\n",
              "    background-color: var(--bg-color);\n",
              "    border: none;\n",
              "    border-radius: 50%;\n",
              "    cursor: pointer;\n",
              "    display: none;\n",
              "    fill: var(--fill-color);\n",
              "    height: 32px;\n",
              "    padding: 0;\n",
              "    width: 32px;\n",
              "  }\n",
              "\n",
              "  .colab-df-quickchart:hover {\n",
              "    background-color: var(--hover-bg-color);\n",
              "    box-shadow: 0 1px 2px rgba(60, 64, 67, 0.3), 0 1px 3px 1px rgba(60, 64, 67, 0.15);\n",
              "    fill: var(--button-hover-fill-color);\n",
              "  }\n",
              "\n",
              "  .colab-df-quickchart-complete:disabled,\n",
              "  .colab-df-quickchart-complete:disabled:hover {\n",
              "    background-color: var(--disabled-bg-color);\n",
              "    fill: var(--disabled-fill-color);\n",
              "    box-shadow: none;\n",
              "  }\n",
              "\n",
              "  .colab-df-spinner {\n",
              "    border: 2px solid var(--fill-color);\n",
              "    border-color: transparent;\n",
              "    border-bottom-color: var(--fill-color);\n",
              "    animation:\n",
              "      spin 1s steps(1) infinite;\n",
              "  }\n",
              "\n",
              "  @keyframes spin {\n",
              "    0% {\n",
              "      border-color: transparent;\n",
              "      border-bottom-color: var(--fill-color);\n",
              "      border-left-color: var(--fill-color);\n",
              "    }\n",
              "    20% {\n",
              "      border-color: transparent;\n",
              "      border-left-color: var(--fill-color);\n",
              "      border-top-color: var(--fill-color);\n",
              "    }\n",
              "    30% {\n",
              "      border-color: transparent;\n",
              "      border-left-color: var(--fill-color);\n",
              "      border-top-color: var(--fill-color);\n",
              "      border-right-color: var(--fill-color);\n",
              "    }\n",
              "    40% {\n",
              "      border-color: transparent;\n",
              "      border-right-color: var(--fill-color);\n",
              "      border-top-color: var(--fill-color);\n",
              "    }\n",
              "    60% {\n",
              "      border-color: transparent;\n",
              "      border-right-color: var(--fill-color);\n",
              "    }\n",
              "    80% {\n",
              "      border-color: transparent;\n",
              "      border-right-color: var(--fill-color);\n",
              "      border-bottom-color: var(--fill-color);\n",
              "    }\n",
              "    90% {\n",
              "      border-color: transparent;\n",
              "      border-bottom-color: var(--fill-color);\n",
              "    }\n",
              "  }\n",
              "</style>\n",
              "\n",
              "  <script>\n",
              "    async function quickchart(key) {\n",
              "      const quickchartButtonEl =\n",
              "        document.querySelector('#' + key + ' button');\n",
              "      quickchartButtonEl.disabled = true;  // To prevent multiple clicks.\n",
              "      quickchartButtonEl.classList.add('colab-df-spinner');\n",
              "      try {\n",
              "        const charts = await google.colab.kernel.invokeFunction(\n",
              "            'suggestCharts', [key], {});\n",
              "      } catch (error) {\n",
              "        console.error('Error during call to suggestCharts:', error);\n",
              "      }\n",
              "      quickchartButtonEl.classList.remove('colab-df-spinner');\n",
              "      quickchartButtonEl.classList.add('colab-df-quickchart-complete');\n",
              "    }\n",
              "    (() => {\n",
              "      let quickchartButtonEl =\n",
              "        document.querySelector('#df-66b2596a-e4e9-48f0-a893-078f0f87a570 button');\n",
              "      quickchartButtonEl.style.display =\n",
              "        google.colab.kernel.accessAllowed ? 'block' : 'none';\n",
              "    })();\n",
              "  </script>\n",
              "</div>\n",
              "    </div>\n",
              "  </div>\n"
            ],
            "application/vnd.google.colaboratory.intrinsic+json": {
              "type": "dataframe",
              "variable_name": "df"
            }
          },
          "metadata": {},
          "execution_count": 28
        }
      ],
      "source": [
        "#Data Selection\n",
        "\n",
        "\n",
        "#Dropping columns not needed\n",
        "df = df.drop(columns=['applicant_name','billing_city','cvv','tranaction_initiate','billing_state','transaction_env','signature_image','transaction_type','billing_address','email_domain','user_agent','locale'], axis = 1)\n",
        "\n",
        "#drop null values\n",
        "# df.dropna(axis = 1)\n",
        "\n",
        "df.head()\n",
        "\n"
      ]
    },
    {
      "cell_type": "code",
      "execution_count": 29,
      "metadata": {
        "id": "xJJ_-V39BriW"
      },
      "outputs": [],
      "source": [
        "#Import ML Libraries\n",
        "import matplotlib.pyplot as plt\n",
        "from matplotlib.pylab import rcParams\n",
        "import numpy as np\n",
        "from sklearn.model_selection import train_test_split\n",
        "from sklearn import metrics\n",
        "import xgboost\n",
        "import os\n",
        "\n",
        "# !pip install xgboost\n",
        "# !apt-get -qq install -y graphviz && pip install pydot\n",
        "\n",
        "import graphviz"
      ]
    },
    {
      "cell_type": "code",
      "source": [
        "!pip install shap\n",
        "import shap"
      ],
      "metadata": {
        "colab": {
          "base_uri": "https://localhost:8080/"
        },
        "id": "rtEXri9zJkW1",
        "outputId": "7d57eace-8ffc-44b5-fc25-3c6357248d35"
      },
      "execution_count": 30,
      "outputs": [
        {
          "output_type": "stream",
          "name": "stdout",
          "text": [
            "Requirement already satisfied: shap in /usr/local/lib/python3.10/dist-packages (0.44.1)\n",
            "Requirement already satisfied: numpy in /usr/local/lib/python3.10/dist-packages (from shap) (1.25.2)\n",
            "Requirement already satisfied: scipy in /usr/local/lib/python3.10/dist-packages (from shap) (1.11.4)\n",
            "Requirement already satisfied: scikit-learn in /usr/local/lib/python3.10/dist-packages (from shap) (1.2.2)\n",
            "Requirement already satisfied: pandas in /usr/local/lib/python3.10/dist-packages (from shap) (1.5.3)\n",
            "Requirement already satisfied: tqdm>=4.27.0 in /usr/local/lib/python3.10/dist-packages (from shap) (4.66.2)\n",
            "Requirement already satisfied: packaging>20.9 in /usr/local/lib/python3.10/dist-packages (from shap) (23.2)\n",
            "Requirement already satisfied: slicer==0.0.7 in /usr/local/lib/python3.10/dist-packages (from shap) (0.0.7)\n",
            "Requirement already satisfied: numba in /usr/local/lib/python3.10/dist-packages (from shap) (0.58.1)\n",
            "Requirement already satisfied: cloudpickle in /usr/local/lib/python3.10/dist-packages (from shap) (2.2.1)\n",
            "Requirement already satisfied: llvmlite<0.42,>=0.41.0dev0 in /usr/local/lib/python3.10/dist-packages (from numba->shap) (0.41.1)\n",
            "Requirement already satisfied: python-dateutil>=2.8.1 in /usr/local/lib/python3.10/dist-packages (from pandas->shap) (2.8.2)\n",
            "Requirement already satisfied: pytz>=2020.1 in /usr/local/lib/python3.10/dist-packages (from pandas->shap) (2023.4)\n",
            "Requirement already satisfied: joblib>=1.1.1 in /usr/local/lib/python3.10/dist-packages (from scikit-learn->shap) (1.3.2)\n",
            "Requirement already satisfied: threadpoolctl>=2.0.0 in /usr/local/lib/python3.10/dist-packages (from scikit-learn->shap) (3.2.0)\n",
            "Requirement already satisfied: six>=1.5 in /usr/local/lib/python3.10/dist-packages (from python-dateutil>=2.8.1->pandas->shap) (1.16.0)\n"
          ]
        }
      ]
    },
    {
      "cell_type": "code",
      "execution_count": 31,
      "metadata": {
        "id": "XR9-AI877tjB",
        "colab": {
          "base_uri": "https://localhost:8080/"
        },
        "outputId": "2edf38d1-0fb8-492d-9edf-c2b244ff5737"
      },
      "outputs": [
        {
          "output_type": "execute_result",
          "data": {
            "text/plain": [
              "array(['legit', 'fraud'], dtype=object)"
            ]
          },
          "metadata": {},
          "execution_count": 31
        }
      ],
      "source": [
        "df['EVENT_LABEL'].unique()"
      ]
    },
    {
      "cell_type": "markdown",
      "metadata": {
        "id": "LK6Oz5lreaIx"
      },
      "source": []
    },
    {
      "cell_type": "code",
      "execution_count": 32,
      "metadata": {
        "id": "aDOuZIsjeQmV",
        "colab": {
          "base_uri": "https://localhost:8080/"
        },
        "outputId": "35c52b99-a5a7-4614-9242-629c798e6bc8"
      },
      "outputs": [
        {
          "output_type": "execute_result",
          "data": {
            "text/plain": [
              "Index(['account_age_days', 'transaction_amt', 'transaction_adj_amt',\n",
              "       'historic_velocity', 'ip_address', 'phone_number', 'billing_postal',\n",
              "       'card_bin', 'currency', 'EVENT_TIMESTAMP', 'merchant_id',\n",
              "       'days_since_last_logon', 'inital_amount', 'EVENT_LABEL'],\n",
              "      dtype='object')"
            ]
          },
          "metadata": {},
          "execution_count": 32
        }
      ],
      "source": [
        "df.columns"
      ]
    },
    {
      "cell_type": "code",
      "execution_count": 33,
      "metadata": {
        "id": "OYhZo4k3-aU3",
        "colab": {
          "base_uri": "https://localhost:8080/",
          "height": 278
        },
        "outputId": "939f7819-640b-4da6-ba37-fe3250742fd9"
      },
      "outputs": [
        {
          "output_type": "execute_result",
          "data": {
            "text/plain": [
              "   account_age_days  transaction_amt  transaction_adj_amt  historic_velocity  \\\n",
              "0            3371.0           2167.0                 56.0             2572.0   \n",
              "1            2714.0           2045.0                 48.0             4517.0   \n",
              "2            6987.0           2892.0                 61.0             5007.0   \n",
              "3            2712.0           3040.0                 28.0             6022.0   \n",
              "4            3598.0           2976.0                 66.0             2600.0   \n",
              "\n",
              "       ip_address           phone_number  billing_postal  card_bin currency  \\\n",
              "0   154.68.49.124           878-111-5140         96336.0   40771.0      cad   \n",
              "1   39.131.125.85          (002)736-0139         78083.0   24480.0      cad   \n",
              "2  166.245.194.83      (983)585-2863x652         83236.0   37778.0      cad   \n",
              "3   100.1.217.216  +1-678-897-3420x60738         78364.0   55790.0      usd   \n",
              "4  113.156.65.245    (013)204-1766x92641         77499.0   37370.0      cad   \n",
              "\n",
              "   EVENT_TIMESTAMP  merchant_id  days_since_last_logon  inital_amount  \\\n",
              "0  12/29/2020 9:05  066-82-8795                   59.0        13646.0   \n",
              "1  6/22/2021 18:05  669-99-9459                    0.0        11930.0   \n",
              "2  5/10/2021 13:48  086-41-1624                   83.0         7412.0   \n",
              "3   3/11/2021 7:36  669-97-4021                   24.0         4623.0   \n",
              "4   3/27/2021 6:13  088-21-6329                   21.0         1905.0   \n",
              "\n",
              "   EVENT_LABEL  \n",
              "0            0  \n",
              "1            0  \n",
              "2            0  \n",
              "3            0  \n",
              "4            0  "
            ],
            "text/html": [
              "\n",
              "  <div id=\"df-10661fb5-b20a-4a99-bb3c-5d65c8a83723\" class=\"colab-df-container\">\n",
              "    <div>\n",
              "<style scoped>\n",
              "    .dataframe tbody tr th:only-of-type {\n",
              "        vertical-align: middle;\n",
              "    }\n",
              "\n",
              "    .dataframe tbody tr th {\n",
              "        vertical-align: top;\n",
              "    }\n",
              "\n",
              "    .dataframe thead th {\n",
              "        text-align: right;\n",
              "    }\n",
              "</style>\n",
              "<table border=\"1\" class=\"dataframe\">\n",
              "  <thead>\n",
              "    <tr style=\"text-align: right;\">\n",
              "      <th></th>\n",
              "      <th>account_age_days</th>\n",
              "      <th>transaction_amt</th>\n",
              "      <th>transaction_adj_amt</th>\n",
              "      <th>historic_velocity</th>\n",
              "      <th>ip_address</th>\n",
              "      <th>phone_number</th>\n",
              "      <th>billing_postal</th>\n",
              "      <th>card_bin</th>\n",
              "      <th>currency</th>\n",
              "      <th>EVENT_TIMESTAMP</th>\n",
              "      <th>merchant_id</th>\n",
              "      <th>days_since_last_logon</th>\n",
              "      <th>inital_amount</th>\n",
              "      <th>EVENT_LABEL</th>\n",
              "    </tr>\n",
              "  </thead>\n",
              "  <tbody>\n",
              "    <tr>\n",
              "      <th>0</th>\n",
              "      <td>3371.0</td>\n",
              "      <td>2167.0</td>\n",
              "      <td>56.0</td>\n",
              "      <td>2572.0</td>\n",
              "      <td>154.68.49.124</td>\n",
              "      <td>878-111-5140</td>\n",
              "      <td>96336.0</td>\n",
              "      <td>40771.0</td>\n",
              "      <td>cad</td>\n",
              "      <td>12/29/2020 9:05</td>\n",
              "      <td>066-82-8795</td>\n",
              "      <td>59.0</td>\n",
              "      <td>13646.0</td>\n",
              "      <td>0</td>\n",
              "    </tr>\n",
              "    <tr>\n",
              "      <th>1</th>\n",
              "      <td>2714.0</td>\n",
              "      <td>2045.0</td>\n",
              "      <td>48.0</td>\n",
              "      <td>4517.0</td>\n",
              "      <td>39.131.125.85</td>\n",
              "      <td>(002)736-0139</td>\n",
              "      <td>78083.0</td>\n",
              "      <td>24480.0</td>\n",
              "      <td>cad</td>\n",
              "      <td>6/22/2021 18:05</td>\n",
              "      <td>669-99-9459</td>\n",
              "      <td>0.0</td>\n",
              "      <td>11930.0</td>\n",
              "      <td>0</td>\n",
              "    </tr>\n",
              "    <tr>\n",
              "      <th>2</th>\n",
              "      <td>6987.0</td>\n",
              "      <td>2892.0</td>\n",
              "      <td>61.0</td>\n",
              "      <td>5007.0</td>\n",
              "      <td>166.245.194.83</td>\n",
              "      <td>(983)585-2863x652</td>\n",
              "      <td>83236.0</td>\n",
              "      <td>37778.0</td>\n",
              "      <td>cad</td>\n",
              "      <td>5/10/2021 13:48</td>\n",
              "      <td>086-41-1624</td>\n",
              "      <td>83.0</td>\n",
              "      <td>7412.0</td>\n",
              "      <td>0</td>\n",
              "    </tr>\n",
              "    <tr>\n",
              "      <th>3</th>\n",
              "      <td>2712.0</td>\n",
              "      <td>3040.0</td>\n",
              "      <td>28.0</td>\n",
              "      <td>6022.0</td>\n",
              "      <td>100.1.217.216</td>\n",
              "      <td>+1-678-897-3420x60738</td>\n",
              "      <td>78364.0</td>\n",
              "      <td>55790.0</td>\n",
              "      <td>usd</td>\n",
              "      <td>3/11/2021 7:36</td>\n",
              "      <td>669-97-4021</td>\n",
              "      <td>24.0</td>\n",
              "      <td>4623.0</td>\n",
              "      <td>0</td>\n",
              "    </tr>\n",
              "    <tr>\n",
              "      <th>4</th>\n",
              "      <td>3598.0</td>\n",
              "      <td>2976.0</td>\n",
              "      <td>66.0</td>\n",
              "      <td>2600.0</td>\n",
              "      <td>113.156.65.245</td>\n",
              "      <td>(013)204-1766x92641</td>\n",
              "      <td>77499.0</td>\n",
              "      <td>37370.0</td>\n",
              "      <td>cad</td>\n",
              "      <td>3/27/2021 6:13</td>\n",
              "      <td>088-21-6329</td>\n",
              "      <td>21.0</td>\n",
              "      <td>1905.0</td>\n",
              "      <td>0</td>\n",
              "    </tr>\n",
              "  </tbody>\n",
              "</table>\n",
              "</div>\n",
              "    <div class=\"colab-df-buttons\">\n",
              "\n",
              "  <div class=\"colab-df-container\">\n",
              "    <button class=\"colab-df-convert\" onclick=\"convertToInteractive('df-10661fb5-b20a-4a99-bb3c-5d65c8a83723')\"\n",
              "            title=\"Convert this dataframe to an interactive table.\"\n",
              "            style=\"display:none;\">\n",
              "\n",
              "  <svg xmlns=\"http://www.w3.org/2000/svg\" height=\"24px\" viewBox=\"0 -960 960 960\">\n",
              "    <path d=\"M120-120v-720h720v720H120Zm60-500h600v-160H180v160Zm220 220h160v-160H400v160Zm0 220h160v-160H400v160ZM180-400h160v-160H180v160Zm440 0h160v-160H620v160ZM180-180h160v-160H180v160Zm440 0h160v-160H620v160Z\"/>\n",
              "  </svg>\n",
              "    </button>\n",
              "\n",
              "  <style>\n",
              "    .colab-df-container {\n",
              "      display:flex;\n",
              "      gap: 12px;\n",
              "    }\n",
              "\n",
              "    .colab-df-convert {\n",
              "      background-color: #E8F0FE;\n",
              "      border: none;\n",
              "      border-radius: 50%;\n",
              "      cursor: pointer;\n",
              "      display: none;\n",
              "      fill: #1967D2;\n",
              "      height: 32px;\n",
              "      padding: 0 0 0 0;\n",
              "      width: 32px;\n",
              "    }\n",
              "\n",
              "    .colab-df-convert:hover {\n",
              "      background-color: #E2EBFA;\n",
              "      box-shadow: 0px 1px 2px rgba(60, 64, 67, 0.3), 0px 1px 3px 1px rgba(60, 64, 67, 0.15);\n",
              "      fill: #174EA6;\n",
              "    }\n",
              "\n",
              "    .colab-df-buttons div {\n",
              "      margin-bottom: 4px;\n",
              "    }\n",
              "\n",
              "    [theme=dark] .colab-df-convert {\n",
              "      background-color: #3B4455;\n",
              "      fill: #D2E3FC;\n",
              "    }\n",
              "\n",
              "    [theme=dark] .colab-df-convert:hover {\n",
              "      background-color: #434B5C;\n",
              "      box-shadow: 0px 1px 3px 1px rgba(0, 0, 0, 0.15);\n",
              "      filter: drop-shadow(0px 1px 2px rgba(0, 0, 0, 0.3));\n",
              "      fill: #FFFFFF;\n",
              "    }\n",
              "  </style>\n",
              "\n",
              "    <script>\n",
              "      const buttonEl =\n",
              "        document.querySelector('#df-10661fb5-b20a-4a99-bb3c-5d65c8a83723 button.colab-df-convert');\n",
              "      buttonEl.style.display =\n",
              "        google.colab.kernel.accessAllowed ? 'block' : 'none';\n",
              "\n",
              "      async function convertToInteractive(key) {\n",
              "        const element = document.querySelector('#df-10661fb5-b20a-4a99-bb3c-5d65c8a83723');\n",
              "        const dataTable =\n",
              "          await google.colab.kernel.invokeFunction('convertToInteractive',\n",
              "                                                    [key], {});\n",
              "        if (!dataTable) return;\n",
              "\n",
              "        const docLinkHtml = 'Like what you see? Visit the ' +\n",
              "          '<a target=\"_blank\" href=https://colab.research.google.com/notebooks/data_table.ipynb>data table notebook</a>'\n",
              "          + ' to learn more about interactive tables.';\n",
              "        element.innerHTML = '';\n",
              "        dataTable['output_type'] = 'display_data';\n",
              "        await google.colab.output.renderOutput(dataTable, element);\n",
              "        const docLink = document.createElement('div');\n",
              "        docLink.innerHTML = docLinkHtml;\n",
              "        element.appendChild(docLink);\n",
              "      }\n",
              "    </script>\n",
              "  </div>\n",
              "\n",
              "\n",
              "<div id=\"df-70df643b-8803-469a-95a9-277edeb253c9\">\n",
              "  <button class=\"colab-df-quickchart\" onclick=\"quickchart('df-70df643b-8803-469a-95a9-277edeb253c9')\"\n",
              "            title=\"Suggest charts\"\n",
              "            style=\"display:none;\">\n",
              "\n",
              "<svg xmlns=\"http://www.w3.org/2000/svg\" height=\"24px\"viewBox=\"0 0 24 24\"\n",
              "     width=\"24px\">\n",
              "    <g>\n",
              "        <path d=\"M19 3H5c-1.1 0-2 .9-2 2v14c0 1.1.9 2 2 2h14c1.1 0 2-.9 2-2V5c0-1.1-.9-2-2-2zM9 17H7v-7h2v7zm4 0h-2V7h2v10zm4 0h-2v-4h2v4z\"/>\n",
              "    </g>\n",
              "</svg>\n",
              "  </button>\n",
              "\n",
              "<style>\n",
              "  .colab-df-quickchart {\n",
              "      --bg-color: #E8F0FE;\n",
              "      --fill-color: #1967D2;\n",
              "      --hover-bg-color: #E2EBFA;\n",
              "      --hover-fill-color: #174EA6;\n",
              "      --disabled-fill-color: #AAA;\n",
              "      --disabled-bg-color: #DDD;\n",
              "  }\n",
              "\n",
              "  [theme=dark] .colab-df-quickchart {\n",
              "      --bg-color: #3B4455;\n",
              "      --fill-color: #D2E3FC;\n",
              "      --hover-bg-color: #434B5C;\n",
              "      --hover-fill-color: #FFFFFF;\n",
              "      --disabled-bg-color: #3B4455;\n",
              "      --disabled-fill-color: #666;\n",
              "  }\n",
              "\n",
              "  .colab-df-quickchart {\n",
              "    background-color: var(--bg-color);\n",
              "    border: none;\n",
              "    border-radius: 50%;\n",
              "    cursor: pointer;\n",
              "    display: none;\n",
              "    fill: var(--fill-color);\n",
              "    height: 32px;\n",
              "    padding: 0;\n",
              "    width: 32px;\n",
              "  }\n",
              "\n",
              "  .colab-df-quickchart:hover {\n",
              "    background-color: var(--hover-bg-color);\n",
              "    box-shadow: 0 1px 2px rgba(60, 64, 67, 0.3), 0 1px 3px 1px rgba(60, 64, 67, 0.15);\n",
              "    fill: var(--button-hover-fill-color);\n",
              "  }\n",
              "\n",
              "  .colab-df-quickchart-complete:disabled,\n",
              "  .colab-df-quickchart-complete:disabled:hover {\n",
              "    background-color: var(--disabled-bg-color);\n",
              "    fill: var(--disabled-fill-color);\n",
              "    box-shadow: none;\n",
              "  }\n",
              "\n",
              "  .colab-df-spinner {\n",
              "    border: 2px solid var(--fill-color);\n",
              "    border-color: transparent;\n",
              "    border-bottom-color: var(--fill-color);\n",
              "    animation:\n",
              "      spin 1s steps(1) infinite;\n",
              "  }\n",
              "\n",
              "  @keyframes spin {\n",
              "    0% {\n",
              "      border-color: transparent;\n",
              "      border-bottom-color: var(--fill-color);\n",
              "      border-left-color: var(--fill-color);\n",
              "    }\n",
              "    20% {\n",
              "      border-color: transparent;\n",
              "      border-left-color: var(--fill-color);\n",
              "      border-top-color: var(--fill-color);\n",
              "    }\n",
              "    30% {\n",
              "      border-color: transparent;\n",
              "      border-left-color: var(--fill-color);\n",
              "      border-top-color: var(--fill-color);\n",
              "      border-right-color: var(--fill-color);\n",
              "    }\n",
              "    40% {\n",
              "      border-color: transparent;\n",
              "      border-right-color: var(--fill-color);\n",
              "      border-top-color: var(--fill-color);\n",
              "    }\n",
              "    60% {\n",
              "      border-color: transparent;\n",
              "      border-right-color: var(--fill-color);\n",
              "    }\n",
              "    80% {\n",
              "      border-color: transparent;\n",
              "      border-right-color: var(--fill-color);\n",
              "      border-bottom-color: var(--fill-color);\n",
              "    }\n",
              "    90% {\n",
              "      border-color: transparent;\n",
              "      border-bottom-color: var(--fill-color);\n",
              "    }\n",
              "  }\n",
              "</style>\n",
              "\n",
              "  <script>\n",
              "    async function quickchart(key) {\n",
              "      const quickchartButtonEl =\n",
              "        document.querySelector('#' + key + ' button');\n",
              "      quickchartButtonEl.disabled = true;  // To prevent multiple clicks.\n",
              "      quickchartButtonEl.classList.add('colab-df-spinner');\n",
              "      try {\n",
              "        const charts = await google.colab.kernel.invokeFunction(\n",
              "            'suggestCharts', [key], {});\n",
              "      } catch (error) {\n",
              "        console.error('Error during call to suggestCharts:', error);\n",
              "      }\n",
              "      quickchartButtonEl.classList.remove('colab-df-spinner');\n",
              "      quickchartButtonEl.classList.add('colab-df-quickchart-complete');\n",
              "    }\n",
              "    (() => {\n",
              "      let quickchartButtonEl =\n",
              "        document.querySelector('#df-70df643b-8803-469a-95a9-277edeb253c9 button');\n",
              "      quickchartButtonEl.style.display =\n",
              "        google.colab.kernel.accessAllowed ? 'block' : 'none';\n",
              "    })();\n",
              "  </script>\n",
              "</div>\n",
              "    </div>\n",
              "  </div>\n"
            ],
            "application/vnd.google.colaboratory.intrinsic+json": {
              "type": "dataframe",
              "variable_name": "df"
            }
          },
          "metadata": {},
          "execution_count": 33
        }
      ],
      "source": [
        "df['EVENT_LABEL'] = df['EVENT_LABEL'].map({'legit':0,'fraud':1})\n",
        "# df['EVENT_LABEL'] = enc.fit_transform(df['EVENT_LABEL'])\n",
        "df.head()"
      ]
    },
    {
      "cell_type": "code",
      "execution_count": 34,
      "metadata": {
        "id": "HGK8Rm7NUNIH"
      },
      "outputs": [],
      "source": [
        "# df.drop(['cvv','signature_image','transaction_type','transaction_env'],axis=1)"
      ]
    },
    {
      "cell_type": "code",
      "execution_count": 35,
      "metadata": {
        "id": "cGH6n9xMYznS",
        "colab": {
          "base_uri": "https://localhost:8080/"
        },
        "outputId": "029c9c14-9503-491a-bbaa-641c59fbf9a3"
      },
      "outputs": [
        {
          "output_type": "execute_result",
          "data": {
            "text/plain": [
              "Index(['account_age_days', 'transaction_amt', 'transaction_adj_amt',\n",
              "       'historic_velocity', 'ip_address', 'phone_number', 'billing_postal',\n",
              "       'card_bin', 'currency', 'EVENT_TIMESTAMP', 'merchant_id',\n",
              "       'days_since_last_logon', 'inital_amount', 'EVENT_LABEL'],\n",
              "      dtype='object')"
            ]
          },
          "metadata": {},
          "execution_count": 35
        }
      ],
      "source": [
        "df.columns"
      ]
    },
    {
      "cell_type": "code",
      "execution_count": 36,
      "metadata": {
        "id": "bgpysW-tQagT",
        "colab": {
          "base_uri": "https://localhost:8080/"
        },
        "outputId": "5c6b7f20-6f25-47ec-c2c4-7e80b5cc380a"
      },
      "outputs": [
        {
          "output_type": "execute_result",
          "data": {
            "text/plain": [
              "0          1546849124\n",
              "1          3913112585\n",
              "2         16624519483\n",
              "3          1001217216\n",
              "4         11315665245\n",
              "             ...     \n",
              "149995      929851182\n",
              "149996    13717200201\n",
              "149997     9711159151\n",
              "149998       88434052\n",
              "149999    15725019213\n",
              "Name: ip_address, Length: 150000, dtype: int64"
            ]
          },
          "metadata": {},
          "execution_count": 36
        }
      ],
      "source": [
        "df['ip_address'] = df['ip_address'].fillna(0).replace({'\\D':''},regex=True).astype(int)\n",
        "df['ip_address']"
      ]
    },
    {
      "cell_type": "code",
      "execution_count": 37,
      "metadata": {
        "id": "wqUKeExHTLuj",
        "colab": {
          "base_uri": "https://localhost:8080/"
        },
        "outputId": "ed0232dc-93f9-4182-bf3b-66b7b54deddf"
      },
      "outputs": [
        {
          "output_type": "execute_result",
          "data": {
            "text/plain": [
              "0          66828795\n",
              "1         669999459\n",
              "2          86411624\n",
              "3         669974021\n",
              "4          88216329\n",
              "            ...    \n",
              "149995    330784517\n",
              "149996    867314925\n",
              "149997    120076784\n",
              "149998    346526342\n",
              "149999    319720066\n",
              "Name: merchant_id, Length: 150000, dtype: int64"
            ]
          },
          "metadata": {},
          "execution_count": 37
        }
      ],
      "source": [
        "df['merchant_id'] = df['merchant_id'].fillna(0).replace({'\\D':''},regex=True).astype(int)\n",
        "df['merchant_id']"
      ]
    },
    {
      "cell_type": "code",
      "execution_count": 38,
      "metadata": {
        "id": "9m3v89txdGQN",
        "colab": {
          "base_uri": "https://localhost:8080/"
        },
        "outputId": "6f0483d8-d4f0-4d06-f258-4192031afbbe"
      },
      "outputs": [
        {
          "output_type": "execute_result",
          "data": {
            "text/plain": [
              "Index(['account_age_days', 'transaction_amt', 'transaction_adj_amt',\n",
              "       'historic_velocity', 'ip_address', 'phone_number', 'billing_postal',\n",
              "       'card_bin', 'currency', 'EVENT_TIMESTAMP', 'merchant_id',\n",
              "       'days_since_last_logon', 'inital_amount', 'EVENT_LABEL'],\n",
              "      dtype='object')"
            ]
          },
          "metadata": {},
          "execution_count": 38
        }
      ],
      "source": [
        "df.columns"
      ]
    },
    {
      "cell_type": "code",
      "execution_count": 39,
      "metadata": {
        "id": "YAllfk-idtqT",
        "colab": {
          "base_uri": "https://localhost:8080/"
        },
        "outputId": "96917f32-42c8-46e4-f5f5-4b1ff9ea9350"
      },
      "outputs": [
        {
          "output_type": "execute_result",
          "data": {
            "text/plain": [
              "array(['cad', 'usd', 'eur', nan], dtype=object)"
            ]
          },
          "metadata": {},
          "execution_count": 39
        }
      ],
      "source": [
        "df['currency'].unique()"
      ]
    },
    {
      "cell_type": "code",
      "execution_count": 40,
      "metadata": {
        "id": "phDMWD5SdID5",
        "colab": {
          "base_uri": "https://localhost:8080/"
        },
        "outputId": "5ac4af9e-7a05-4189-ae83-2779915cfe1a"
      },
      "outputs": [
        {
          "output_type": "stream",
          "name": "stdout",
          "text": [
            "<class 'pandas.core.frame.DataFrame'>\n",
            "RangeIndex: 150000 entries, 0 to 149999\n",
            "Data columns (total 14 columns):\n",
            " #   Column                 Non-Null Count   Dtype  \n",
            "---  ------                 --------------   -----  \n",
            " 0   account_age_days       149892 non-null  float64\n",
            " 1   transaction_amt        149870 non-null  float64\n",
            " 2   transaction_adj_amt    149886 non-null  float64\n",
            " 3   historic_velocity      149885 non-null  float64\n",
            " 4   ip_address             150000 non-null  int64  \n",
            " 5   phone_number           149873 non-null  object \n",
            " 6   billing_postal         149876 non-null  float64\n",
            " 7   card_bin               149872 non-null  float64\n",
            " 8   currency               149892 non-null  object \n",
            " 9   EVENT_TIMESTAMP        149888 non-null  object \n",
            " 10  merchant_id            150000 non-null  int64  \n",
            " 11  days_since_last_logon  149864 non-null  float64\n",
            " 12  inital_amount          149872 non-null  float64\n",
            " 13  EVENT_LABEL            150000 non-null  int64  \n",
            "dtypes: float64(8), int64(3), object(3)\n",
            "memory usage: 16.0+ MB\n"
          ]
        }
      ],
      "source": [
        "df.info()"
      ]
    },
    {
      "cell_type": "code",
      "execution_count": 41,
      "metadata": {
        "id": "c6q7e-4Kex2L"
      },
      "outputs": [],
      "source": [
        "df = pd.get_dummies(df, columns=['currency'])"
      ]
    },
    {
      "cell_type": "code",
      "execution_count": 42,
      "metadata": {
        "id": "Of7jdJJPXqKl",
        "colab": {
          "base_uri": "https://localhost:8080/"
        },
        "outputId": "736e7fc6-7d66-4fde-e675-6bfb6dc85793"
      },
      "outputs": [
        {
          "output_type": "execute_result",
          "data": {
            "text/plain": [
              "0               8781115140\n",
              "1                 27360139\n",
              "2            9835852863652\n",
              "3         1678897342060738\n",
              "4           13204176692641\n",
              "                ...       \n",
              "149995          5540099294\n",
              "149996       1754778512357\n",
              "149997    1227374340852516\n",
              "149998    1119602847945844\n",
              "149999      69328857375001\n",
              "Name: phone_number, Length: 150000, dtype: int64"
            ]
          },
          "metadata": {},
          "execution_count": 42
        }
      ],
      "source": [
        "# df = pd.get_dummies(df, columns=['phone_number'])\n",
        "df['phone_number'] = df['phone_number'].fillna(0).replace({'\\D':''},regex=True).astype(int)\n",
        "df['phone_number']"
      ]
    },
    {
      "cell_type": "code",
      "execution_count": 43,
      "metadata": {
        "id": "Qm5eC1cQhIjw",
        "colab": {
          "base_uri": "https://localhost:8080/"
        },
        "outputId": "4012ef71-924d-4ed5-ae40-fcb6f380100f"
      },
      "outputs": [
        {
          "output_type": "stream",
          "name": "stdout",
          "text": [
            "<class 'pandas.core.frame.DataFrame'>\n",
            "RangeIndex: 150000 entries, 0 to 149999\n",
            "Data columns (total 16 columns):\n",
            " #   Column                 Non-Null Count   Dtype  \n",
            "---  ------                 --------------   -----  \n",
            " 0   account_age_days       149892 non-null  float64\n",
            " 1   transaction_amt        149870 non-null  float64\n",
            " 2   transaction_adj_amt    149886 non-null  float64\n",
            " 3   historic_velocity      149885 non-null  float64\n",
            " 4   ip_address             150000 non-null  int64  \n",
            " 5   phone_number           150000 non-null  int64  \n",
            " 6   billing_postal         149876 non-null  float64\n",
            " 7   card_bin               149872 non-null  float64\n",
            " 8   EVENT_TIMESTAMP        149888 non-null  object \n",
            " 9   merchant_id            150000 non-null  int64  \n",
            " 10  days_since_last_logon  149864 non-null  float64\n",
            " 11  inital_amount          149872 non-null  float64\n",
            " 12  EVENT_LABEL            150000 non-null  int64  \n",
            " 13  currency_cad           150000 non-null  uint8  \n",
            " 14  currency_eur           150000 non-null  uint8  \n",
            " 15  currency_usd           150000 non-null  uint8  \n",
            "dtypes: float64(8), int64(4), object(1), uint8(3)\n",
            "memory usage: 15.3+ MB\n"
          ]
        }
      ],
      "source": [
        "df.info()"
      ]
    },
    {
      "cell_type": "code",
      "execution_count": 44,
      "metadata": {
        "id": "RWacTx6cosMV",
        "colab": {
          "base_uri": "https://localhost:8080/"
        },
        "outputId": "433a418c-41f0-4ae2-a41e-c55ce9959961"
      },
      "outputs": [
        {
          "output_type": "execute_result",
          "data": {
            "text/plain": [
              "Index(['account_age_days', 'transaction_amt', 'transaction_adj_amt',\n",
              "       'historic_velocity', 'ip_address', 'phone_number', 'billing_postal',\n",
              "       'card_bin', 'EVENT_TIMESTAMP', 'merchant_id', 'days_since_last_logon',\n",
              "       'inital_amount', 'EVENT_LABEL', 'currency_cad', 'currency_eur',\n",
              "       'currency_usd'],\n",
              "      dtype='object')"
            ]
          },
          "metadata": {},
          "execution_count": 44
        }
      ],
      "source": [
        "df.columns"
      ]
    },
    {
      "cell_type": "code",
      "execution_count": 45,
      "metadata": {
        "id": "-msHi6jjpM5t"
      },
      "outputs": [],
      "source": [
        "df['year']=pd.to_datetime(df['EVENT_TIMESTAMP']).dt.year"
      ]
    },
    {
      "cell_type": "code",
      "execution_count": 46,
      "metadata": {
        "id": "dT8rx1spqUmt"
      },
      "outputs": [],
      "source": [
        "df['month']=pd.to_datetime(df['EVENT_TIMESTAMP']).dt.month"
      ]
    },
    {
      "cell_type": "code",
      "execution_count": 47,
      "metadata": {
        "id": "2WQ6WLWlqKSc"
      },
      "outputs": [],
      "source": [
        "df['day']=pd.to_datetime(df['EVENT_TIMESTAMP']).dt.day"
      ]
    },
    {
      "cell_type": "code",
      "execution_count": 48,
      "metadata": {
        "id": "pAM-zhE6rULY"
      },
      "outputs": [],
      "source": [
        "df['hour']=pd.to_datetime(df['EVENT_TIMESTAMP']).dt.hour"
      ]
    },
    {
      "cell_type": "code",
      "execution_count": 49,
      "metadata": {
        "id": "x8yE26A_rZzS"
      },
      "outputs": [],
      "source": [
        "df['minute']=pd.to_datetime(df['EVENT_TIMESTAMP']).dt.minute"
      ]
    },
    {
      "cell_type": "code",
      "execution_count": 50,
      "metadata": {
        "id": "0s1RB7nYrhua"
      },
      "outputs": [],
      "source": [
        "df['second']=pd.to_datetime(df['EVENT_TIMESTAMP']).dt.second"
      ]
    },
    {
      "cell_type": "code",
      "execution_count": 51,
      "metadata": {
        "id": "jPV4QcFdk0U0",
        "colab": {
          "base_uri": "https://localhost:8080/"
        },
        "outputId": "62b33b18-c8b8-4369-8ec8-138ff92cc90f"
      },
      "outputs": [
        {
          "output_type": "stream",
          "name": "stdout",
          "text": [
            "<class 'pandas.core.frame.DataFrame'>\n",
            "RangeIndex: 150000 entries, 0 to 149999\n",
            "Data columns (total 21 columns):\n",
            " #   Column                 Non-Null Count   Dtype  \n",
            "---  ------                 --------------   -----  \n",
            " 0   account_age_days       149892 non-null  float64\n",
            " 1   transaction_amt        149870 non-null  float64\n",
            " 2   transaction_adj_amt    149886 non-null  float64\n",
            " 3   historic_velocity      149885 non-null  float64\n",
            " 4   ip_address             150000 non-null  int64  \n",
            " 5   phone_number           150000 non-null  int64  \n",
            " 6   billing_postal         149876 non-null  float64\n",
            " 7   card_bin               149872 non-null  float64\n",
            " 8   merchant_id            150000 non-null  int64  \n",
            " 9   days_since_last_logon  149864 non-null  float64\n",
            " 10  inital_amount          149872 non-null  float64\n",
            " 11  EVENT_LABEL            150000 non-null  int64  \n",
            " 12  currency_cad           150000 non-null  uint8  \n",
            " 13  currency_eur           150000 non-null  uint8  \n",
            " 14  currency_usd           150000 non-null  uint8  \n",
            " 15  year                   149888 non-null  float64\n",
            " 16  month                  149888 non-null  float64\n",
            " 17  day                    149888 non-null  float64\n",
            " 18  hour                   149888 non-null  float64\n",
            " 19  minute                 149888 non-null  float64\n",
            " 20  second                 149888 non-null  float64\n",
            "dtypes: float64(14), int64(4), uint8(3)\n",
            "memory usage: 21.0 MB\n"
          ]
        }
      ],
      "source": [
        "# Delete the column\n",
        "df.drop('EVENT_TIMESTAMP', axis=1, inplace=True)\n",
        "df.info()"
      ]
    },
    {
      "cell_type": "code",
      "execution_count": 52,
      "metadata": {
        "id": "tcnd7akDfqxK",
        "colab": {
          "base_uri": "https://localhost:8080/"
        },
        "outputId": "bc37d0fb-19e7-4986-f0d3-a8fd426aceee"
      },
      "outputs": [
        {
          "output_type": "execute_result",
          "data": {
            "text/plain": [
              "account_age_days         108\n",
              "transaction_amt          130\n",
              "transaction_adj_amt      114\n",
              "historic_velocity        115\n",
              "ip_address                 0\n",
              "phone_number               0\n",
              "billing_postal           124\n",
              "card_bin                 128\n",
              "merchant_id                0\n",
              "days_since_last_logon    136\n",
              "inital_amount            128\n",
              "EVENT_LABEL                0\n",
              "currency_cad               0\n",
              "currency_eur               0\n",
              "currency_usd               0\n",
              "year                     112\n",
              "month                    112\n",
              "day                      112\n",
              "hour                     112\n",
              "minute                   112\n",
              "second                   112\n",
              "dtype: int64"
            ]
          },
          "metadata": {},
          "execution_count": 52
        }
      ],
      "source": [
        "df.isna().sum()"
      ]
    },
    {
      "cell_type": "code",
      "execution_count": 53,
      "metadata": {
        "id": "QTj8S7mxsjNh"
      },
      "outputs": [],
      "source": [
        "df['year'] = df['year'].fillna(0).astype(int)"
      ]
    },
    {
      "cell_type": "code",
      "execution_count": 54,
      "metadata": {
        "id": "fqtTuh-Ssomh"
      },
      "outputs": [],
      "source": [
        "df['month'] = df['month'].fillna(0).astype(int)"
      ]
    },
    {
      "cell_type": "code",
      "execution_count": 55,
      "metadata": {
        "id": "n25WHH30suaU"
      },
      "outputs": [],
      "source": [
        "df['day'] = df['day'].fillna(0).astype(int)"
      ]
    },
    {
      "cell_type": "code",
      "execution_count": 56,
      "metadata": {
        "id": "xZ6nU9ONszFU"
      },
      "outputs": [],
      "source": [
        "df['hour'] = df['hour'].fillna(0).astype(int)"
      ]
    },
    {
      "cell_type": "code",
      "execution_count": 57,
      "metadata": {
        "id": "iPDLJZDBs3o7"
      },
      "outputs": [],
      "source": [
        "df['minute'] = df['minute'].fillna(0).astype(int)"
      ]
    },
    {
      "cell_type": "code",
      "execution_count": 58,
      "metadata": {
        "id": "pAFDTTF9tJVj"
      },
      "outputs": [],
      "source": [
        "df['second'] = df['second'].fillna(0).astype(int)"
      ]
    },
    {
      "cell_type": "code",
      "execution_count": 59,
      "metadata": {
        "id": "4pagXNiNtgxO",
        "colab": {
          "base_uri": "https://localhost:8080/"
        },
        "outputId": "2e418dc3-41a5-4643-9ab4-8cc41868ebfa"
      },
      "outputs": [
        {
          "output_type": "execute_result",
          "data": {
            "text/plain": [
              "account_age_days         108\n",
              "transaction_amt          130\n",
              "transaction_adj_amt      114\n",
              "historic_velocity        115\n",
              "ip_address                 0\n",
              "phone_number               0\n",
              "billing_postal           124\n",
              "card_bin                 128\n",
              "merchant_id                0\n",
              "days_since_last_logon    136\n",
              "inital_amount            128\n",
              "EVENT_LABEL                0\n",
              "currency_cad               0\n",
              "currency_eur               0\n",
              "currency_usd               0\n",
              "year                       0\n",
              "month                      0\n",
              "day                        0\n",
              "hour                       0\n",
              "minute                     0\n",
              "second                     0\n",
              "dtype: int64"
            ]
          },
          "metadata": {},
          "execution_count": 59
        }
      ],
      "source": [
        "df.isnull().sum()"
      ]
    },
    {
      "cell_type": "code",
      "execution_count": 60,
      "metadata": {
        "id": "cTx3TY_yf5m0"
      },
      "outputs": [],
      "source": [
        "df['account_age_days'] = df['account_age_days'].fillna(0).astype(int)"
      ]
    },
    {
      "cell_type": "code",
      "execution_count": 61,
      "metadata": {
        "id": "1SBQU00EgHij",
        "colab": {
          "base_uri": "https://localhost:8080/"
        },
        "outputId": "3e3182cf-ae2c-41d6-b125-61fbfc190838"
      },
      "outputs": [
        {
          "output_type": "execute_result",
          "data": {
            "text/plain": [
              "0"
            ]
          },
          "metadata": {},
          "execution_count": 61
        }
      ],
      "source": [
        "df['account_age_days'].isna().sum()"
      ]
    },
    {
      "cell_type": "code",
      "execution_count": 62,
      "metadata": {
        "id": "4Os_kO2ZgvUo"
      },
      "outputs": [],
      "source": [
        "df['transaction_amt'] = df['transaction_amt'].fillna(0).astype(int)"
      ]
    },
    {
      "cell_type": "code",
      "execution_count": 63,
      "metadata": {
        "id": "DE2Y_G-mg-ce"
      },
      "outputs": [],
      "source": [
        "df['transaction_adj_amt'] = df['transaction_adj_amt'].fillna(0).astype(int)"
      ]
    },
    {
      "cell_type": "code",
      "execution_count": 64,
      "metadata": {
        "id": "E2CXTf4chPLl"
      },
      "outputs": [],
      "source": [
        "df['historic_velocity'] = df['historic_velocity'].fillna(0).astype(int)"
      ]
    },
    {
      "cell_type": "code",
      "execution_count": 65,
      "metadata": {
        "id": "AZCBqHGohaJ0"
      },
      "outputs": [],
      "source": [
        "df['card_bin'] = df['card_bin'].fillna(0).astype(int)"
      ]
    },
    {
      "cell_type": "code",
      "execution_count": 66,
      "metadata": {
        "id": "iY9P-aHjhnk3"
      },
      "outputs": [],
      "source": [
        "df['inital_amount'] = df['inital_amount'].fillna(0).astype(int)"
      ]
    },
    {
      "cell_type": "code",
      "execution_count": 67,
      "metadata": {
        "id": "_q5IoiZRTvKj",
        "colab": {
          "base_uri": "https://localhost:8080/"
        },
        "outputId": "8732e212-b586-494d-8c29-ecbdc1da6f07"
      },
      "outputs": [
        {
          "output_type": "execute_result",
          "data": {
            "text/plain": [
              "account_age_days           0\n",
              "transaction_amt            0\n",
              "transaction_adj_amt        0\n",
              "historic_velocity          0\n",
              "ip_address                 0\n",
              "phone_number               0\n",
              "billing_postal           124\n",
              "card_bin                   0\n",
              "merchant_id                0\n",
              "days_since_last_logon    136\n",
              "inital_amount              0\n",
              "EVENT_LABEL                0\n",
              "currency_cad               0\n",
              "currency_eur               0\n",
              "currency_usd               0\n",
              "year                       0\n",
              "month                      0\n",
              "day                        0\n",
              "hour                       0\n",
              "minute                     0\n",
              "second                     0\n",
              "dtype: int64"
            ]
          },
          "metadata": {},
          "execution_count": 67
        }
      ],
      "source": [
        "df.isnull().sum()"
      ]
    },
    {
      "cell_type": "code",
      "execution_count": 68,
      "metadata": {
        "id": "V02Cl1mcXjGQ",
        "colab": {
          "base_uri": "https://localhost:8080/"
        },
        "outputId": "49c5d173-ae84-4637-b916-da1e28dfe5e4"
      },
      "outputs": [
        {
          "output_type": "execute_result",
          "data": {
            "text/plain": [
              "account_age_days         0\n",
              "transaction_amt          0\n",
              "transaction_adj_amt      0\n",
              "historic_velocity        0\n",
              "ip_address               0\n",
              "phone_number             0\n",
              "billing_postal           0\n",
              "card_bin                 0\n",
              "merchant_id              0\n",
              "days_since_last_logon    0\n",
              "inital_amount            0\n",
              "EVENT_LABEL              0\n",
              "currency_cad             0\n",
              "currency_eur             0\n",
              "currency_usd             0\n",
              "year                     0\n",
              "month                    0\n",
              "day                      0\n",
              "hour                     0\n",
              "minute                   0\n",
              "second                   0\n",
              "dtype: int64"
            ]
          },
          "metadata": {},
          "execution_count": 68
        }
      ],
      "source": [
        "df['billing_postal'] = df['billing_postal'].fillna(0).astype(int)\n",
        "df['days_since_last_logon'] = df['days_since_last_logon'].fillna(0).astype(int)\n",
        "df.isnull().sum()"
      ]
    },
    {
      "cell_type": "code",
      "execution_count": 69,
      "metadata": {
        "id": "eFTSCGJ4fY0S",
        "colab": {
          "base_uri": "https://localhost:8080/",
          "height": 255
        },
        "outputId": "9963c078-bee8-49af-9621-d8203ac910a7"
      },
      "outputs": [
        {
          "output_type": "execute_result",
          "data": {
            "text/plain": [
              "   account_age_days  transaction_amt  transaction_adj_amt  historic_velocity  \\\n",
              "0              3371             2167                   56               2572   \n",
              "1              2714             2045                   48               4517   \n",
              "2              6987             2892                   61               5007   \n",
              "3              2712             3040                   28               6022   \n",
              "4              3598             2976                   66               2600   \n",
              "\n",
              "    ip_address      phone_number  billing_postal  card_bin  merchant_id  \\\n",
              "0   1546849124        8781115140           96336     40771     66828795   \n",
              "1   3913112585          27360139           78083     24480    669999459   \n",
              "2  16624519483     9835852863652           83236     37778     86411624   \n",
              "3   1001217216  1678897342060738           78364     55790    669974021   \n",
              "4  11315665245    13204176692641           77499     37370     88216329   \n",
              "\n",
              "   days_since_last_logon  ...  EVENT_LABEL  currency_cad  currency_eur  \\\n",
              "0                     59  ...            0             1             0   \n",
              "1                      0  ...            0             1             0   \n",
              "2                     83  ...            0             1             0   \n",
              "3                     24  ...            0             0             0   \n",
              "4                     21  ...            0             1             0   \n",
              "\n",
              "   currency_usd  year  month  day  hour  minute  second  \n",
              "0             0  2020     12   29     9       5       0  \n",
              "1             0  2021      6   22    18       5       0  \n",
              "2             0  2021      5   10    13      48       0  \n",
              "3             1  2021      3   11     7      36       0  \n",
              "4             0  2021      3   27     6      13       0  \n",
              "\n",
              "[5 rows x 21 columns]"
            ],
            "text/html": [
              "\n",
              "  <div id=\"df-3fb014eb-4d75-4b9c-b686-fc2c3f8a447b\" class=\"colab-df-container\">\n",
              "    <div>\n",
              "<style scoped>\n",
              "    .dataframe tbody tr th:only-of-type {\n",
              "        vertical-align: middle;\n",
              "    }\n",
              "\n",
              "    .dataframe tbody tr th {\n",
              "        vertical-align: top;\n",
              "    }\n",
              "\n",
              "    .dataframe thead th {\n",
              "        text-align: right;\n",
              "    }\n",
              "</style>\n",
              "<table border=\"1\" class=\"dataframe\">\n",
              "  <thead>\n",
              "    <tr style=\"text-align: right;\">\n",
              "      <th></th>\n",
              "      <th>account_age_days</th>\n",
              "      <th>transaction_amt</th>\n",
              "      <th>transaction_adj_amt</th>\n",
              "      <th>historic_velocity</th>\n",
              "      <th>ip_address</th>\n",
              "      <th>phone_number</th>\n",
              "      <th>billing_postal</th>\n",
              "      <th>card_bin</th>\n",
              "      <th>merchant_id</th>\n",
              "      <th>days_since_last_logon</th>\n",
              "      <th>...</th>\n",
              "      <th>EVENT_LABEL</th>\n",
              "      <th>currency_cad</th>\n",
              "      <th>currency_eur</th>\n",
              "      <th>currency_usd</th>\n",
              "      <th>year</th>\n",
              "      <th>month</th>\n",
              "      <th>day</th>\n",
              "      <th>hour</th>\n",
              "      <th>minute</th>\n",
              "      <th>second</th>\n",
              "    </tr>\n",
              "  </thead>\n",
              "  <tbody>\n",
              "    <tr>\n",
              "      <th>0</th>\n",
              "      <td>3371</td>\n",
              "      <td>2167</td>\n",
              "      <td>56</td>\n",
              "      <td>2572</td>\n",
              "      <td>1546849124</td>\n",
              "      <td>8781115140</td>\n",
              "      <td>96336</td>\n",
              "      <td>40771</td>\n",
              "      <td>66828795</td>\n",
              "      <td>59</td>\n",
              "      <td>...</td>\n",
              "      <td>0</td>\n",
              "      <td>1</td>\n",
              "      <td>0</td>\n",
              "      <td>0</td>\n",
              "      <td>2020</td>\n",
              "      <td>12</td>\n",
              "      <td>29</td>\n",
              "      <td>9</td>\n",
              "      <td>5</td>\n",
              "      <td>0</td>\n",
              "    </tr>\n",
              "    <tr>\n",
              "      <th>1</th>\n",
              "      <td>2714</td>\n",
              "      <td>2045</td>\n",
              "      <td>48</td>\n",
              "      <td>4517</td>\n",
              "      <td>3913112585</td>\n",
              "      <td>27360139</td>\n",
              "      <td>78083</td>\n",
              "      <td>24480</td>\n",
              "      <td>669999459</td>\n",
              "      <td>0</td>\n",
              "      <td>...</td>\n",
              "      <td>0</td>\n",
              "      <td>1</td>\n",
              "      <td>0</td>\n",
              "      <td>0</td>\n",
              "      <td>2021</td>\n",
              "      <td>6</td>\n",
              "      <td>22</td>\n",
              "      <td>18</td>\n",
              "      <td>5</td>\n",
              "      <td>0</td>\n",
              "    </tr>\n",
              "    <tr>\n",
              "      <th>2</th>\n",
              "      <td>6987</td>\n",
              "      <td>2892</td>\n",
              "      <td>61</td>\n",
              "      <td>5007</td>\n",
              "      <td>16624519483</td>\n",
              "      <td>9835852863652</td>\n",
              "      <td>83236</td>\n",
              "      <td>37778</td>\n",
              "      <td>86411624</td>\n",
              "      <td>83</td>\n",
              "      <td>...</td>\n",
              "      <td>0</td>\n",
              "      <td>1</td>\n",
              "      <td>0</td>\n",
              "      <td>0</td>\n",
              "      <td>2021</td>\n",
              "      <td>5</td>\n",
              "      <td>10</td>\n",
              "      <td>13</td>\n",
              "      <td>48</td>\n",
              "      <td>0</td>\n",
              "    </tr>\n",
              "    <tr>\n",
              "      <th>3</th>\n",
              "      <td>2712</td>\n",
              "      <td>3040</td>\n",
              "      <td>28</td>\n",
              "      <td>6022</td>\n",
              "      <td>1001217216</td>\n",
              "      <td>1678897342060738</td>\n",
              "      <td>78364</td>\n",
              "      <td>55790</td>\n",
              "      <td>669974021</td>\n",
              "      <td>24</td>\n",
              "      <td>...</td>\n",
              "      <td>0</td>\n",
              "      <td>0</td>\n",
              "      <td>0</td>\n",
              "      <td>1</td>\n",
              "      <td>2021</td>\n",
              "      <td>3</td>\n",
              "      <td>11</td>\n",
              "      <td>7</td>\n",
              "      <td>36</td>\n",
              "      <td>0</td>\n",
              "    </tr>\n",
              "    <tr>\n",
              "      <th>4</th>\n",
              "      <td>3598</td>\n",
              "      <td>2976</td>\n",
              "      <td>66</td>\n",
              "      <td>2600</td>\n",
              "      <td>11315665245</td>\n",
              "      <td>13204176692641</td>\n",
              "      <td>77499</td>\n",
              "      <td>37370</td>\n",
              "      <td>88216329</td>\n",
              "      <td>21</td>\n",
              "      <td>...</td>\n",
              "      <td>0</td>\n",
              "      <td>1</td>\n",
              "      <td>0</td>\n",
              "      <td>0</td>\n",
              "      <td>2021</td>\n",
              "      <td>3</td>\n",
              "      <td>27</td>\n",
              "      <td>6</td>\n",
              "      <td>13</td>\n",
              "      <td>0</td>\n",
              "    </tr>\n",
              "  </tbody>\n",
              "</table>\n",
              "<p>5 rows × 21 columns</p>\n",
              "</div>\n",
              "    <div class=\"colab-df-buttons\">\n",
              "\n",
              "  <div class=\"colab-df-container\">\n",
              "    <button class=\"colab-df-convert\" onclick=\"convertToInteractive('df-3fb014eb-4d75-4b9c-b686-fc2c3f8a447b')\"\n",
              "            title=\"Convert this dataframe to an interactive table.\"\n",
              "            style=\"display:none;\">\n",
              "\n",
              "  <svg xmlns=\"http://www.w3.org/2000/svg\" height=\"24px\" viewBox=\"0 -960 960 960\">\n",
              "    <path d=\"M120-120v-720h720v720H120Zm60-500h600v-160H180v160Zm220 220h160v-160H400v160Zm0 220h160v-160H400v160ZM180-400h160v-160H180v160Zm440 0h160v-160H620v160ZM180-180h160v-160H180v160Zm440 0h160v-160H620v160Z\"/>\n",
              "  </svg>\n",
              "    </button>\n",
              "\n",
              "  <style>\n",
              "    .colab-df-container {\n",
              "      display:flex;\n",
              "      gap: 12px;\n",
              "    }\n",
              "\n",
              "    .colab-df-convert {\n",
              "      background-color: #E8F0FE;\n",
              "      border: none;\n",
              "      border-radius: 50%;\n",
              "      cursor: pointer;\n",
              "      display: none;\n",
              "      fill: #1967D2;\n",
              "      height: 32px;\n",
              "      padding: 0 0 0 0;\n",
              "      width: 32px;\n",
              "    }\n",
              "\n",
              "    .colab-df-convert:hover {\n",
              "      background-color: #E2EBFA;\n",
              "      box-shadow: 0px 1px 2px rgba(60, 64, 67, 0.3), 0px 1px 3px 1px rgba(60, 64, 67, 0.15);\n",
              "      fill: #174EA6;\n",
              "    }\n",
              "\n",
              "    .colab-df-buttons div {\n",
              "      margin-bottom: 4px;\n",
              "    }\n",
              "\n",
              "    [theme=dark] .colab-df-convert {\n",
              "      background-color: #3B4455;\n",
              "      fill: #D2E3FC;\n",
              "    }\n",
              "\n",
              "    [theme=dark] .colab-df-convert:hover {\n",
              "      background-color: #434B5C;\n",
              "      box-shadow: 0px 1px 3px 1px rgba(0, 0, 0, 0.15);\n",
              "      filter: drop-shadow(0px 1px 2px rgba(0, 0, 0, 0.3));\n",
              "      fill: #FFFFFF;\n",
              "    }\n",
              "  </style>\n",
              "\n",
              "    <script>\n",
              "      const buttonEl =\n",
              "        document.querySelector('#df-3fb014eb-4d75-4b9c-b686-fc2c3f8a447b button.colab-df-convert');\n",
              "      buttonEl.style.display =\n",
              "        google.colab.kernel.accessAllowed ? 'block' : 'none';\n",
              "\n",
              "      async function convertToInteractive(key) {\n",
              "        const element = document.querySelector('#df-3fb014eb-4d75-4b9c-b686-fc2c3f8a447b');\n",
              "        const dataTable =\n",
              "          await google.colab.kernel.invokeFunction('convertToInteractive',\n",
              "                                                    [key], {});\n",
              "        if (!dataTable) return;\n",
              "\n",
              "        const docLinkHtml = 'Like what you see? Visit the ' +\n",
              "          '<a target=\"_blank\" href=https://colab.research.google.com/notebooks/data_table.ipynb>data table notebook</a>'\n",
              "          + ' to learn more about interactive tables.';\n",
              "        element.innerHTML = '';\n",
              "        dataTable['output_type'] = 'display_data';\n",
              "        await google.colab.output.renderOutput(dataTable, element);\n",
              "        const docLink = document.createElement('div');\n",
              "        docLink.innerHTML = docLinkHtml;\n",
              "        element.appendChild(docLink);\n",
              "      }\n",
              "    </script>\n",
              "  </div>\n",
              "\n",
              "\n",
              "<div id=\"df-96981a09-3072-497a-8d30-c038a922f023\">\n",
              "  <button class=\"colab-df-quickchart\" onclick=\"quickchart('df-96981a09-3072-497a-8d30-c038a922f023')\"\n",
              "            title=\"Suggest charts\"\n",
              "            style=\"display:none;\">\n",
              "\n",
              "<svg xmlns=\"http://www.w3.org/2000/svg\" height=\"24px\"viewBox=\"0 0 24 24\"\n",
              "     width=\"24px\">\n",
              "    <g>\n",
              "        <path d=\"M19 3H5c-1.1 0-2 .9-2 2v14c0 1.1.9 2 2 2h14c1.1 0 2-.9 2-2V5c0-1.1-.9-2-2-2zM9 17H7v-7h2v7zm4 0h-2V7h2v10zm4 0h-2v-4h2v4z\"/>\n",
              "    </g>\n",
              "</svg>\n",
              "  </button>\n",
              "\n",
              "<style>\n",
              "  .colab-df-quickchart {\n",
              "      --bg-color: #E8F0FE;\n",
              "      --fill-color: #1967D2;\n",
              "      --hover-bg-color: #E2EBFA;\n",
              "      --hover-fill-color: #174EA6;\n",
              "      --disabled-fill-color: #AAA;\n",
              "      --disabled-bg-color: #DDD;\n",
              "  }\n",
              "\n",
              "  [theme=dark] .colab-df-quickchart {\n",
              "      --bg-color: #3B4455;\n",
              "      --fill-color: #D2E3FC;\n",
              "      --hover-bg-color: #434B5C;\n",
              "      --hover-fill-color: #FFFFFF;\n",
              "      --disabled-bg-color: #3B4455;\n",
              "      --disabled-fill-color: #666;\n",
              "  }\n",
              "\n",
              "  .colab-df-quickchart {\n",
              "    background-color: var(--bg-color);\n",
              "    border: none;\n",
              "    border-radius: 50%;\n",
              "    cursor: pointer;\n",
              "    display: none;\n",
              "    fill: var(--fill-color);\n",
              "    height: 32px;\n",
              "    padding: 0;\n",
              "    width: 32px;\n",
              "  }\n",
              "\n",
              "  .colab-df-quickchart:hover {\n",
              "    background-color: var(--hover-bg-color);\n",
              "    box-shadow: 0 1px 2px rgba(60, 64, 67, 0.3), 0 1px 3px 1px rgba(60, 64, 67, 0.15);\n",
              "    fill: var(--button-hover-fill-color);\n",
              "  }\n",
              "\n",
              "  .colab-df-quickchart-complete:disabled,\n",
              "  .colab-df-quickchart-complete:disabled:hover {\n",
              "    background-color: var(--disabled-bg-color);\n",
              "    fill: var(--disabled-fill-color);\n",
              "    box-shadow: none;\n",
              "  }\n",
              "\n",
              "  .colab-df-spinner {\n",
              "    border: 2px solid var(--fill-color);\n",
              "    border-color: transparent;\n",
              "    border-bottom-color: var(--fill-color);\n",
              "    animation:\n",
              "      spin 1s steps(1) infinite;\n",
              "  }\n",
              "\n",
              "  @keyframes spin {\n",
              "    0% {\n",
              "      border-color: transparent;\n",
              "      border-bottom-color: var(--fill-color);\n",
              "      border-left-color: var(--fill-color);\n",
              "    }\n",
              "    20% {\n",
              "      border-color: transparent;\n",
              "      border-left-color: var(--fill-color);\n",
              "      border-top-color: var(--fill-color);\n",
              "    }\n",
              "    30% {\n",
              "      border-color: transparent;\n",
              "      border-left-color: var(--fill-color);\n",
              "      border-top-color: var(--fill-color);\n",
              "      border-right-color: var(--fill-color);\n",
              "    }\n",
              "    40% {\n",
              "      border-color: transparent;\n",
              "      border-right-color: var(--fill-color);\n",
              "      border-top-color: var(--fill-color);\n",
              "    }\n",
              "    60% {\n",
              "      border-color: transparent;\n",
              "      border-right-color: var(--fill-color);\n",
              "    }\n",
              "    80% {\n",
              "      border-color: transparent;\n",
              "      border-right-color: var(--fill-color);\n",
              "      border-bottom-color: var(--fill-color);\n",
              "    }\n",
              "    90% {\n",
              "      border-color: transparent;\n",
              "      border-bottom-color: var(--fill-color);\n",
              "    }\n",
              "  }\n",
              "</style>\n",
              "\n",
              "  <script>\n",
              "    async function quickchart(key) {\n",
              "      const quickchartButtonEl =\n",
              "        document.querySelector('#' + key + ' button');\n",
              "      quickchartButtonEl.disabled = true;  // To prevent multiple clicks.\n",
              "      quickchartButtonEl.classList.add('colab-df-spinner');\n",
              "      try {\n",
              "        const charts = await google.colab.kernel.invokeFunction(\n",
              "            'suggestCharts', [key], {});\n",
              "      } catch (error) {\n",
              "        console.error('Error during call to suggestCharts:', error);\n",
              "      }\n",
              "      quickchartButtonEl.classList.remove('colab-df-spinner');\n",
              "      quickchartButtonEl.classList.add('colab-df-quickchart-complete');\n",
              "    }\n",
              "    (() => {\n",
              "      let quickchartButtonEl =\n",
              "        document.querySelector('#df-96981a09-3072-497a-8d30-c038a922f023 button');\n",
              "      quickchartButtonEl.style.display =\n",
              "        google.colab.kernel.accessAllowed ? 'block' : 'none';\n",
              "    })();\n",
              "  </script>\n",
              "</div>\n",
              "    </div>\n",
              "  </div>\n"
            ],
            "application/vnd.google.colaboratory.intrinsic+json": {
              "type": "dataframe",
              "variable_name": "df"
            }
          },
          "metadata": {},
          "execution_count": 69
        }
      ],
      "source": [
        "df.head()"
      ]
    },
    {
      "cell_type": "code",
      "execution_count": 70,
      "metadata": {
        "id": "daGXHBADibny",
        "colab": {
          "base_uri": "https://localhost:8080/"
        },
        "outputId": "b96da9d7-6b23-4aa8-bff8-a908896cf1c8"
      },
      "outputs": [
        {
          "output_type": "execute_result",
          "data": {
            "text/plain": [
              "account_age_days         0\n",
              "transaction_amt          0\n",
              "transaction_adj_amt      0\n",
              "historic_velocity        0\n",
              "ip_address               0\n",
              "phone_number             0\n",
              "billing_postal           0\n",
              "card_bin                 0\n",
              "merchant_id              0\n",
              "days_since_last_logon    0\n",
              "inital_amount            0\n",
              "EVENT_LABEL              0\n",
              "currency_cad             0\n",
              "currency_eur             0\n",
              "currency_usd             0\n",
              "year                     0\n",
              "month                    0\n",
              "day                      0\n",
              "hour                     0\n",
              "minute                   0\n",
              "second                   0\n",
              "dtype: int64"
            ]
          },
          "metadata": {},
          "execution_count": 70
        }
      ],
      "source": [
        "df.isna().sum()"
      ]
    },
    {
      "cell_type": "code",
      "execution_count": 71,
      "metadata": {
        "id": "5nTuGCBLTcNC",
        "colab": {
          "base_uri": "https://localhost:8080/"
        },
        "outputId": "5c265c39-ed62-49e5-c390-a1b9780551c2"
      },
      "outputs": [
        {
          "output_type": "stream",
          "name": "stdout",
          "text": [
            "<class 'pandas.core.frame.DataFrame'>\n",
            "RangeIndex: 150000 entries, 0 to 149999\n",
            "Data columns (total 21 columns):\n",
            " #   Column                 Non-Null Count   Dtype\n",
            "---  ------                 --------------   -----\n",
            " 0   account_age_days       150000 non-null  int64\n",
            " 1   transaction_amt        150000 non-null  int64\n",
            " 2   transaction_adj_amt    150000 non-null  int64\n",
            " 3   historic_velocity      150000 non-null  int64\n",
            " 4   ip_address             150000 non-null  int64\n",
            " 5   phone_number           150000 non-null  int64\n",
            " 6   billing_postal         150000 non-null  int64\n",
            " 7   card_bin               150000 non-null  int64\n",
            " 8   merchant_id            150000 non-null  int64\n",
            " 9   days_since_last_logon  150000 non-null  int64\n",
            " 10  inital_amount          150000 non-null  int64\n",
            " 11  EVENT_LABEL            150000 non-null  int64\n",
            " 12  currency_cad           150000 non-null  uint8\n",
            " 13  currency_eur           150000 non-null  uint8\n",
            " 14  currency_usd           150000 non-null  uint8\n",
            " 15  year                   150000 non-null  int64\n",
            " 16  month                  150000 non-null  int64\n",
            " 17  day                    150000 non-null  int64\n",
            " 18  hour                   150000 non-null  int64\n",
            " 19  minute                 150000 non-null  int64\n",
            " 20  second                 150000 non-null  int64\n",
            "dtypes: int64(18), uint8(3)\n",
            "memory usage: 21.0 MB\n"
          ]
        }
      ],
      "source": [
        "df.info()"
      ]
    },
    {
      "cell_type": "code",
      "execution_count": 72,
      "metadata": {
        "id": "a-9XhWpOcEq0"
      },
      "outputs": [],
      "source": [
        "y = df['EVENT_LABEL']"
      ]
    },
    {
      "cell_type": "code",
      "execution_count": 73,
      "metadata": {
        "id": "5Z0ySJkOeroq"
      },
      "outputs": [],
      "source": [
        "# x = df[['account_age_days', 'transaction_amt', 'transaction_adj_amt',\n",
        "#        'historic_velocity', 'ip_address', 'card_bin', 'merchant_id',\n",
        "#        'inital_amount','billing_postal','days_since_last_logon','year','month','day','minute','second']]\n",
        "x = df.drop('EVENT_LABEL',axis=1)"
      ]
    },
    {
      "cell_type": "code",
      "execution_count": 74,
      "metadata": {
        "id": "ucfHNsza_847",
        "colab": {
          "base_uri": "https://localhost:8080/",
          "height": 161
        },
        "outputId": "e5194b30-298e-4d48-a095-570d07af259b"
      },
      "outputs": [
        {
          "output_type": "execute_result",
          "data": {
            "text/plain": [
              "   account_age_days  transaction_amt  transaction_adj_amt  historic_velocity  \\\n",
              "0              3371             2167                   56               2572   \n",
              "1              2714             2045                   48               4517   \n",
              "\n",
              "   ip_address  phone_number  billing_postal  card_bin  merchant_id  \\\n",
              "0  1546849124    8781115140           96336     40771     66828795   \n",
              "1  3913112585      27360139           78083     24480    669999459   \n",
              "\n",
              "   days_since_last_logon  ...  EVENT_LABEL  currency_cad  currency_eur  \\\n",
              "0                     59  ...            0             1             0   \n",
              "1                      0  ...            0             1             0   \n",
              "\n",
              "   currency_usd  year  month  day  hour  minute  second  \n",
              "0             0  2020     12   29     9       5       0  \n",
              "1             0  2021      6   22    18       5       0  \n",
              "\n",
              "[2 rows x 21 columns]"
            ],
            "text/html": [
              "\n",
              "  <div id=\"df-897cf017-58cc-425a-9bfa-3c5505c66793\" class=\"colab-df-container\">\n",
              "    <div>\n",
              "<style scoped>\n",
              "    .dataframe tbody tr th:only-of-type {\n",
              "        vertical-align: middle;\n",
              "    }\n",
              "\n",
              "    .dataframe tbody tr th {\n",
              "        vertical-align: top;\n",
              "    }\n",
              "\n",
              "    .dataframe thead th {\n",
              "        text-align: right;\n",
              "    }\n",
              "</style>\n",
              "<table border=\"1\" class=\"dataframe\">\n",
              "  <thead>\n",
              "    <tr style=\"text-align: right;\">\n",
              "      <th></th>\n",
              "      <th>account_age_days</th>\n",
              "      <th>transaction_amt</th>\n",
              "      <th>transaction_adj_amt</th>\n",
              "      <th>historic_velocity</th>\n",
              "      <th>ip_address</th>\n",
              "      <th>phone_number</th>\n",
              "      <th>billing_postal</th>\n",
              "      <th>card_bin</th>\n",
              "      <th>merchant_id</th>\n",
              "      <th>days_since_last_logon</th>\n",
              "      <th>...</th>\n",
              "      <th>EVENT_LABEL</th>\n",
              "      <th>currency_cad</th>\n",
              "      <th>currency_eur</th>\n",
              "      <th>currency_usd</th>\n",
              "      <th>year</th>\n",
              "      <th>month</th>\n",
              "      <th>day</th>\n",
              "      <th>hour</th>\n",
              "      <th>minute</th>\n",
              "      <th>second</th>\n",
              "    </tr>\n",
              "  </thead>\n",
              "  <tbody>\n",
              "    <tr>\n",
              "      <th>0</th>\n",
              "      <td>3371</td>\n",
              "      <td>2167</td>\n",
              "      <td>56</td>\n",
              "      <td>2572</td>\n",
              "      <td>1546849124</td>\n",
              "      <td>8781115140</td>\n",
              "      <td>96336</td>\n",
              "      <td>40771</td>\n",
              "      <td>66828795</td>\n",
              "      <td>59</td>\n",
              "      <td>...</td>\n",
              "      <td>0</td>\n",
              "      <td>1</td>\n",
              "      <td>0</td>\n",
              "      <td>0</td>\n",
              "      <td>2020</td>\n",
              "      <td>12</td>\n",
              "      <td>29</td>\n",
              "      <td>9</td>\n",
              "      <td>5</td>\n",
              "      <td>0</td>\n",
              "    </tr>\n",
              "    <tr>\n",
              "      <th>1</th>\n",
              "      <td>2714</td>\n",
              "      <td>2045</td>\n",
              "      <td>48</td>\n",
              "      <td>4517</td>\n",
              "      <td>3913112585</td>\n",
              "      <td>27360139</td>\n",
              "      <td>78083</td>\n",
              "      <td>24480</td>\n",
              "      <td>669999459</td>\n",
              "      <td>0</td>\n",
              "      <td>...</td>\n",
              "      <td>0</td>\n",
              "      <td>1</td>\n",
              "      <td>0</td>\n",
              "      <td>0</td>\n",
              "      <td>2021</td>\n",
              "      <td>6</td>\n",
              "      <td>22</td>\n",
              "      <td>18</td>\n",
              "      <td>5</td>\n",
              "      <td>0</td>\n",
              "    </tr>\n",
              "  </tbody>\n",
              "</table>\n",
              "<p>2 rows × 21 columns</p>\n",
              "</div>\n",
              "    <div class=\"colab-df-buttons\">\n",
              "\n",
              "  <div class=\"colab-df-container\">\n",
              "    <button class=\"colab-df-convert\" onclick=\"convertToInteractive('df-897cf017-58cc-425a-9bfa-3c5505c66793')\"\n",
              "            title=\"Convert this dataframe to an interactive table.\"\n",
              "            style=\"display:none;\">\n",
              "\n",
              "  <svg xmlns=\"http://www.w3.org/2000/svg\" height=\"24px\" viewBox=\"0 -960 960 960\">\n",
              "    <path d=\"M120-120v-720h720v720H120Zm60-500h600v-160H180v160Zm220 220h160v-160H400v160Zm0 220h160v-160H400v160ZM180-400h160v-160H180v160Zm440 0h160v-160H620v160ZM180-180h160v-160H180v160Zm440 0h160v-160H620v160Z\"/>\n",
              "  </svg>\n",
              "    </button>\n",
              "\n",
              "  <style>\n",
              "    .colab-df-container {\n",
              "      display:flex;\n",
              "      gap: 12px;\n",
              "    }\n",
              "\n",
              "    .colab-df-convert {\n",
              "      background-color: #E8F0FE;\n",
              "      border: none;\n",
              "      border-radius: 50%;\n",
              "      cursor: pointer;\n",
              "      display: none;\n",
              "      fill: #1967D2;\n",
              "      height: 32px;\n",
              "      padding: 0 0 0 0;\n",
              "      width: 32px;\n",
              "    }\n",
              "\n",
              "    .colab-df-convert:hover {\n",
              "      background-color: #E2EBFA;\n",
              "      box-shadow: 0px 1px 2px rgba(60, 64, 67, 0.3), 0px 1px 3px 1px rgba(60, 64, 67, 0.15);\n",
              "      fill: #174EA6;\n",
              "    }\n",
              "\n",
              "    .colab-df-buttons div {\n",
              "      margin-bottom: 4px;\n",
              "    }\n",
              "\n",
              "    [theme=dark] .colab-df-convert {\n",
              "      background-color: #3B4455;\n",
              "      fill: #D2E3FC;\n",
              "    }\n",
              "\n",
              "    [theme=dark] .colab-df-convert:hover {\n",
              "      background-color: #434B5C;\n",
              "      box-shadow: 0px 1px 3px 1px rgba(0, 0, 0, 0.15);\n",
              "      filter: drop-shadow(0px 1px 2px rgba(0, 0, 0, 0.3));\n",
              "      fill: #FFFFFF;\n",
              "    }\n",
              "  </style>\n",
              "\n",
              "    <script>\n",
              "      const buttonEl =\n",
              "        document.querySelector('#df-897cf017-58cc-425a-9bfa-3c5505c66793 button.colab-df-convert');\n",
              "      buttonEl.style.display =\n",
              "        google.colab.kernel.accessAllowed ? 'block' : 'none';\n",
              "\n",
              "      async function convertToInteractive(key) {\n",
              "        const element = document.querySelector('#df-897cf017-58cc-425a-9bfa-3c5505c66793');\n",
              "        const dataTable =\n",
              "          await google.colab.kernel.invokeFunction('convertToInteractive',\n",
              "                                                    [key], {});\n",
              "        if (!dataTable) return;\n",
              "\n",
              "        const docLinkHtml = 'Like what you see? Visit the ' +\n",
              "          '<a target=\"_blank\" href=https://colab.research.google.com/notebooks/data_table.ipynb>data table notebook</a>'\n",
              "          + ' to learn more about interactive tables.';\n",
              "        element.innerHTML = '';\n",
              "        dataTable['output_type'] = 'display_data';\n",
              "        await google.colab.output.renderOutput(dataTable, element);\n",
              "        const docLink = document.createElement('div');\n",
              "        docLink.innerHTML = docLinkHtml;\n",
              "        element.appendChild(docLink);\n",
              "      }\n",
              "    </script>\n",
              "  </div>\n",
              "\n",
              "\n",
              "<div id=\"df-47fe15ec-f06a-4731-be77-40a3da87a01e\">\n",
              "  <button class=\"colab-df-quickchart\" onclick=\"quickchart('df-47fe15ec-f06a-4731-be77-40a3da87a01e')\"\n",
              "            title=\"Suggest charts\"\n",
              "            style=\"display:none;\">\n",
              "\n",
              "<svg xmlns=\"http://www.w3.org/2000/svg\" height=\"24px\"viewBox=\"0 0 24 24\"\n",
              "     width=\"24px\">\n",
              "    <g>\n",
              "        <path d=\"M19 3H5c-1.1 0-2 .9-2 2v14c0 1.1.9 2 2 2h14c1.1 0 2-.9 2-2V5c0-1.1-.9-2-2-2zM9 17H7v-7h2v7zm4 0h-2V7h2v10zm4 0h-2v-4h2v4z\"/>\n",
              "    </g>\n",
              "</svg>\n",
              "  </button>\n",
              "\n",
              "<style>\n",
              "  .colab-df-quickchart {\n",
              "      --bg-color: #E8F0FE;\n",
              "      --fill-color: #1967D2;\n",
              "      --hover-bg-color: #E2EBFA;\n",
              "      --hover-fill-color: #174EA6;\n",
              "      --disabled-fill-color: #AAA;\n",
              "      --disabled-bg-color: #DDD;\n",
              "  }\n",
              "\n",
              "  [theme=dark] .colab-df-quickchart {\n",
              "      --bg-color: #3B4455;\n",
              "      --fill-color: #D2E3FC;\n",
              "      --hover-bg-color: #434B5C;\n",
              "      --hover-fill-color: #FFFFFF;\n",
              "      --disabled-bg-color: #3B4455;\n",
              "      --disabled-fill-color: #666;\n",
              "  }\n",
              "\n",
              "  .colab-df-quickchart {\n",
              "    background-color: var(--bg-color);\n",
              "    border: none;\n",
              "    border-radius: 50%;\n",
              "    cursor: pointer;\n",
              "    display: none;\n",
              "    fill: var(--fill-color);\n",
              "    height: 32px;\n",
              "    padding: 0;\n",
              "    width: 32px;\n",
              "  }\n",
              "\n",
              "  .colab-df-quickchart:hover {\n",
              "    background-color: var(--hover-bg-color);\n",
              "    box-shadow: 0 1px 2px rgba(60, 64, 67, 0.3), 0 1px 3px 1px rgba(60, 64, 67, 0.15);\n",
              "    fill: var(--button-hover-fill-color);\n",
              "  }\n",
              "\n",
              "  .colab-df-quickchart-complete:disabled,\n",
              "  .colab-df-quickchart-complete:disabled:hover {\n",
              "    background-color: var(--disabled-bg-color);\n",
              "    fill: var(--disabled-fill-color);\n",
              "    box-shadow: none;\n",
              "  }\n",
              "\n",
              "  .colab-df-spinner {\n",
              "    border: 2px solid var(--fill-color);\n",
              "    border-color: transparent;\n",
              "    border-bottom-color: var(--fill-color);\n",
              "    animation:\n",
              "      spin 1s steps(1) infinite;\n",
              "  }\n",
              "\n",
              "  @keyframes spin {\n",
              "    0% {\n",
              "      border-color: transparent;\n",
              "      border-bottom-color: var(--fill-color);\n",
              "      border-left-color: var(--fill-color);\n",
              "    }\n",
              "    20% {\n",
              "      border-color: transparent;\n",
              "      border-left-color: var(--fill-color);\n",
              "      border-top-color: var(--fill-color);\n",
              "    }\n",
              "    30% {\n",
              "      border-color: transparent;\n",
              "      border-left-color: var(--fill-color);\n",
              "      border-top-color: var(--fill-color);\n",
              "      border-right-color: var(--fill-color);\n",
              "    }\n",
              "    40% {\n",
              "      border-color: transparent;\n",
              "      border-right-color: var(--fill-color);\n",
              "      border-top-color: var(--fill-color);\n",
              "    }\n",
              "    60% {\n",
              "      border-color: transparent;\n",
              "      border-right-color: var(--fill-color);\n",
              "    }\n",
              "    80% {\n",
              "      border-color: transparent;\n",
              "      border-right-color: var(--fill-color);\n",
              "      border-bottom-color: var(--fill-color);\n",
              "    }\n",
              "    90% {\n",
              "      border-color: transparent;\n",
              "      border-bottom-color: var(--fill-color);\n",
              "    }\n",
              "  }\n",
              "</style>\n",
              "\n",
              "  <script>\n",
              "    async function quickchart(key) {\n",
              "      const quickchartButtonEl =\n",
              "        document.querySelector('#' + key + ' button');\n",
              "      quickchartButtonEl.disabled = true;  // To prevent multiple clicks.\n",
              "      quickchartButtonEl.classList.add('colab-df-spinner');\n",
              "      try {\n",
              "        const charts = await google.colab.kernel.invokeFunction(\n",
              "            'suggestCharts', [key], {});\n",
              "      } catch (error) {\n",
              "        console.error('Error during call to suggestCharts:', error);\n",
              "      }\n",
              "      quickchartButtonEl.classList.remove('colab-df-spinner');\n",
              "      quickchartButtonEl.classList.add('colab-df-quickchart-complete');\n",
              "    }\n",
              "    (() => {\n",
              "      let quickchartButtonEl =\n",
              "        document.querySelector('#df-47fe15ec-f06a-4731-be77-40a3da87a01e button');\n",
              "      quickchartButtonEl.style.display =\n",
              "        google.colab.kernel.accessAllowed ? 'block' : 'none';\n",
              "    })();\n",
              "  </script>\n",
              "</div>\n",
              "    </div>\n",
              "  </div>\n"
            ],
            "application/vnd.google.colaboratory.intrinsic+json": {
              "type": "dataframe",
              "variable_name": "df"
            }
          },
          "metadata": {},
          "execution_count": 74
        }
      ],
      "source": [
        "df.head(2)"
      ]
    },
    {
      "cell_type": "code",
      "execution_count": 75,
      "metadata": {
        "id": "Rwcf8iFwccof",
        "colab": {
          "base_uri": "https://localhost:8080/"
        },
        "outputId": "02cdb78b-c71d-4c1c-f59f-e8ff1f312ee9"
      },
      "outputs": [
        {
          "output_type": "execute_result",
          "data": {
            "text/plain": [
              "Index(['account_age_days', 'transaction_amt', 'transaction_adj_amt',\n",
              "       'historic_velocity', 'ip_address', 'phone_number', 'billing_postal',\n",
              "       'card_bin', 'merchant_id', 'days_since_last_logon', 'inital_amount',\n",
              "       'EVENT_LABEL', 'currency_cad', 'currency_eur', 'currency_usd', 'year',\n",
              "       'month', 'day', 'hour', 'minute', 'second'],\n",
              "      dtype='object')"
            ]
          },
          "metadata": {},
          "execution_count": 75
        }
      ],
      "source": [
        "df.columns"
      ]
    },
    {
      "cell_type": "code",
      "execution_count": 76,
      "metadata": {
        "id": "aS6ljFaArlva",
        "colab": {
          "base_uri": "https://localhost:8080/"
        },
        "outputId": "f08323b7-58f4-4e01-8f99-bb7618dc5f58"
      },
      "outputs": [
        {
          "output_type": "stream",
          "name": "stdout",
          "text": [
            "<class 'pandas.core.frame.DataFrame'>\n",
            "RangeIndex: 150000 entries, 0 to 149999\n",
            "Data columns (total 21 columns):\n",
            " #   Column                 Non-Null Count   Dtype\n",
            "---  ------                 --------------   -----\n",
            " 0   account_age_days       150000 non-null  int64\n",
            " 1   transaction_amt        150000 non-null  int64\n",
            " 2   transaction_adj_amt    150000 non-null  int64\n",
            " 3   historic_velocity      150000 non-null  int64\n",
            " 4   ip_address             150000 non-null  int64\n",
            " 5   phone_number           150000 non-null  int64\n",
            " 6   billing_postal         150000 non-null  int64\n",
            " 7   card_bin               150000 non-null  int64\n",
            " 8   merchant_id            150000 non-null  int64\n",
            " 9   days_since_last_logon  150000 non-null  int64\n",
            " 10  inital_amount          150000 non-null  int64\n",
            " 11  EVENT_LABEL            150000 non-null  int64\n",
            " 12  currency_cad           150000 non-null  uint8\n",
            " 13  currency_eur           150000 non-null  uint8\n",
            " 14  currency_usd           150000 non-null  uint8\n",
            " 15  year                   150000 non-null  int64\n",
            " 16  month                  150000 non-null  int64\n",
            " 17  day                    150000 non-null  int64\n",
            " 18  hour                   150000 non-null  int64\n",
            " 19  minute                 150000 non-null  int64\n",
            " 20  second                 150000 non-null  int64\n",
            "dtypes: int64(18), uint8(3)\n",
            "memory usage: 21.0 MB\n"
          ]
        }
      ],
      "source": [
        "\n",
        "df.info()"
      ]
    },
    {
      "cell_type": "code",
      "execution_count": 77,
      "metadata": {
        "id": "AOkxeuBYOaCM"
      },
      "outputs": [],
      "source": [
        "#Divide data to test and train set\n",
        "x_train, x_test, y_train, y_test = train_test_split(x,y,test_size=0.2,random_state=40)"
      ]
    },
    {
      "cell_type": "code",
      "execution_count": 78,
      "metadata": {
        "id": "em3yQ-9uUOHu",
        "colab": {
          "base_uri": "https://localhost:8080/",
          "height": 248
        },
        "outputId": "6d946d13-fbd7-453c-bcf2-4c9d784c8f4e"
      },
      "outputs": [
        {
          "output_type": "execute_result",
          "data": {
            "text/plain": [
              "XGBClassifier(base_score=None, booster=None, callbacks=None,\n",
              "              colsample_bylevel=None, colsample_bynode=None,\n",
              "              colsample_bytree=None, device=None, early_stopping_rounds=None,\n",
              "              enable_categorical=False, eval_metric=None, feature_types=None,\n",
              "              gamma=None, grow_policy=None, importance_type=None,\n",
              "              interaction_constraints=None, learning_rate=None, max_bin=None,\n",
              "              max_cat_threshold=None, max_cat_to_onehot=None,\n",
              "              max_delta_step=None, max_depth=None, max_leaves=None,\n",
              "              min_child_weight=None, missing=nan, monotone_constraints=None,\n",
              "              multi_strategy=None, n_estimators=None, n_jobs=None,\n",
              "              num_parallel_tree=None, random_state=None, ...)"
            ],
            "text/html": [
              "<style>#sk-container-id-1 {color: black;background-color: white;}#sk-container-id-1 pre{padding: 0;}#sk-container-id-1 div.sk-toggleable {background-color: white;}#sk-container-id-1 label.sk-toggleable__label {cursor: pointer;display: block;width: 100%;margin-bottom: 0;padding: 0.3em;box-sizing: border-box;text-align: center;}#sk-container-id-1 label.sk-toggleable__label-arrow:before {content: \"▸\";float: left;margin-right: 0.25em;color: #696969;}#sk-container-id-1 label.sk-toggleable__label-arrow:hover:before {color: black;}#sk-container-id-1 div.sk-estimator:hover label.sk-toggleable__label-arrow:before {color: black;}#sk-container-id-1 div.sk-toggleable__content {max-height: 0;max-width: 0;overflow: hidden;text-align: left;background-color: #f0f8ff;}#sk-container-id-1 div.sk-toggleable__content pre {margin: 0.2em;color: black;border-radius: 0.25em;background-color: #f0f8ff;}#sk-container-id-1 input.sk-toggleable__control:checked~div.sk-toggleable__content {max-height: 200px;max-width: 100%;overflow: auto;}#sk-container-id-1 input.sk-toggleable__control:checked~label.sk-toggleable__label-arrow:before {content: \"▾\";}#sk-container-id-1 div.sk-estimator input.sk-toggleable__control:checked~label.sk-toggleable__label {background-color: #d4ebff;}#sk-container-id-1 div.sk-label input.sk-toggleable__control:checked~label.sk-toggleable__label {background-color: #d4ebff;}#sk-container-id-1 input.sk-hidden--visually {border: 0;clip: rect(1px 1px 1px 1px);clip: rect(1px, 1px, 1px, 1px);height: 1px;margin: -1px;overflow: hidden;padding: 0;position: absolute;width: 1px;}#sk-container-id-1 div.sk-estimator {font-family: monospace;background-color: #f0f8ff;border: 1px dotted black;border-radius: 0.25em;box-sizing: border-box;margin-bottom: 0.5em;}#sk-container-id-1 div.sk-estimator:hover {background-color: #d4ebff;}#sk-container-id-1 div.sk-parallel-item::after {content: \"\";width: 100%;border-bottom: 1px solid gray;flex-grow: 1;}#sk-container-id-1 div.sk-label:hover label.sk-toggleable__label {background-color: #d4ebff;}#sk-container-id-1 div.sk-serial::before {content: \"\";position: absolute;border-left: 1px solid gray;box-sizing: border-box;top: 0;bottom: 0;left: 50%;z-index: 0;}#sk-container-id-1 div.sk-serial {display: flex;flex-direction: column;align-items: center;background-color: white;padding-right: 0.2em;padding-left: 0.2em;position: relative;}#sk-container-id-1 div.sk-item {position: relative;z-index: 1;}#sk-container-id-1 div.sk-parallel {display: flex;align-items: stretch;justify-content: center;background-color: white;position: relative;}#sk-container-id-1 div.sk-item::before, #sk-container-id-1 div.sk-parallel-item::before {content: \"\";position: absolute;border-left: 1px solid gray;box-sizing: border-box;top: 0;bottom: 0;left: 50%;z-index: -1;}#sk-container-id-1 div.sk-parallel-item {display: flex;flex-direction: column;z-index: 1;position: relative;background-color: white;}#sk-container-id-1 div.sk-parallel-item:first-child::after {align-self: flex-end;width: 50%;}#sk-container-id-1 div.sk-parallel-item:last-child::after {align-self: flex-start;width: 50%;}#sk-container-id-1 div.sk-parallel-item:only-child::after {width: 0;}#sk-container-id-1 div.sk-dashed-wrapped {border: 1px dashed gray;margin: 0 0.4em 0.5em 0.4em;box-sizing: border-box;padding-bottom: 0.4em;background-color: white;}#sk-container-id-1 div.sk-label label {font-family: monospace;font-weight: bold;display: inline-block;line-height: 1.2em;}#sk-container-id-1 div.sk-label-container {text-align: center;}#sk-container-id-1 div.sk-container {/* jupyter's `normalize.less` sets `[hidden] { display: none; }` but bootstrap.min.css set `[hidden] { display: none !important; }` so we also need the `!important` here to be able to override the default hidden behavior on the sphinx rendered scikit-learn.org. See: https://github.com/scikit-learn/scikit-learn/issues/21755 */display: inline-block !important;position: relative;}#sk-container-id-1 div.sk-text-repr-fallback {display: none;}</style><div id=\"sk-container-id-1\" class=\"sk-top-container\"><div class=\"sk-text-repr-fallback\"><pre>XGBClassifier(base_score=None, booster=None, callbacks=None,\n",
              "              colsample_bylevel=None, colsample_bynode=None,\n",
              "              colsample_bytree=None, device=None, early_stopping_rounds=None,\n",
              "              enable_categorical=False, eval_metric=None, feature_types=None,\n",
              "              gamma=None, grow_policy=None, importance_type=None,\n",
              "              interaction_constraints=None, learning_rate=None, max_bin=None,\n",
              "              max_cat_threshold=None, max_cat_to_onehot=None,\n",
              "              max_delta_step=None, max_depth=None, max_leaves=None,\n",
              "              min_child_weight=None, missing=nan, monotone_constraints=None,\n",
              "              multi_strategy=None, n_estimators=None, n_jobs=None,\n",
              "              num_parallel_tree=None, random_state=None, ...)</pre><b>In a Jupyter environment, please rerun this cell to show the HTML representation or trust the notebook. <br />On GitHub, the HTML representation is unable to render, please try loading this page with nbviewer.org.</b></div><div class=\"sk-container\" hidden><div class=\"sk-item\"><div class=\"sk-estimator sk-toggleable\"><input class=\"sk-toggleable__control sk-hidden--visually\" id=\"sk-estimator-id-1\" type=\"checkbox\" checked><label for=\"sk-estimator-id-1\" class=\"sk-toggleable__label sk-toggleable__label-arrow\">XGBClassifier</label><div class=\"sk-toggleable__content\"><pre>XGBClassifier(base_score=None, booster=None, callbacks=None,\n",
              "              colsample_bylevel=None, colsample_bynode=None,\n",
              "              colsample_bytree=None, device=None, early_stopping_rounds=None,\n",
              "              enable_categorical=False, eval_metric=None, feature_types=None,\n",
              "              gamma=None, grow_policy=None, importance_type=None,\n",
              "              interaction_constraints=None, learning_rate=None, max_bin=None,\n",
              "              max_cat_threshold=None, max_cat_to_onehot=None,\n",
              "              max_delta_step=None, max_depth=None, max_leaves=None,\n",
              "              min_child_weight=None, missing=nan, monotone_constraints=None,\n",
              "              multi_strategy=None, n_estimators=None, n_jobs=None,\n",
              "              num_parallel_tree=None, random_state=None, ...)</pre></div></div></div></div></div>"
            ]
          },
          "metadata": {},
          "execution_count": 78
        }
      ],
      "source": [
        "# #Modelling\n",
        "model = xgboost.XGBClassifier()\n",
        "#from sklearn.model import\n",
        "#model = xgboost.XGBRegressor(objective='reg:squarederror')\n",
        "#eval_set = [(X_test, y_test)]  # Validation set\n",
        "#model.fit(X_train, y_train, eval_metric=['mae', 'mse', 'rmse', 'rsquared'], eval_set=eval_set, verbose=False)\n",
        "\n",
        "\n",
        "#Fit the model\n",
        "model.fit(x_train,y_train)\n",
        "\n",
        "# model.score(x_train,y_train)\n",
        "# model.score(x_test,y_test)"
      ]
    },
    {
      "cell_type": "code",
      "execution_count": 81,
      "metadata": {
        "id": "iMXL_LYqh-b_"
      },
      "outputs": [],
      "source": [
        "# Define the hyperparameters grid for tuning\n",
        "param_grid = {\n",
        "    'learning_rate': [0.2],\n",
        "    'max_depth': [3],\n",
        "    'subsample': [0.8],\n",
        "    'n_estimators': [100,]\n",
        "}\n",
        "\n"
      ]
    },
    {
      "cell_type": "code",
      "execution_count": 82,
      "metadata": {
        "id": "f4me_xyIVXBz"
      },
      "outputs": [],
      "source": [
        "from sklearn.metrics import f1_score, r2_score,confusion_matrix,precision_score"
      ]
    },
    {
      "cell_type": "code",
      "execution_count": 83,
      "metadata": {
        "id": "1zeaIWLDVfJY"
      },
      "outputs": [],
      "source": [
        "y_prediction = model.predict(x_test)"
      ]
    },
    {
      "cell_type": "code",
      "execution_count": 84,
      "metadata": {
        "id": "-pHJUD69aXlF",
        "colab": {
          "base_uri": "https://localhost:8080/"
        },
        "outputId": "c60798d3-b2a3-4d78-e200-67b18e690006"
      },
      "outputs": [
        {
          "output_type": "execute_result",
          "data": {
            "text/plain": [
              "0.6234058514628656"
            ]
          },
          "metadata": {},
          "execution_count": 84
        }
      ],
      "source": [
        "f1_score(y_prediction,y_test)"
      ]
    },
    {
      "cell_type": "code",
      "execution_count": 85,
      "metadata": {
        "id": "hnzILNhjadax",
        "colab": {
          "base_uri": "https://localhost:8080/"
        },
        "outputId": "64420919-90f7-46c9-8659-1bff5bc98168"
      },
      "outputs": [
        {
          "output_type": "execute_result",
          "data": {
            "text/plain": [
              "0.5232997481108312"
            ]
          },
          "metadata": {},
          "execution_count": 85
        }
      ],
      "source": [
        "precision_score(y_prediction,y_test)"
      ]
    },
    {
      "cell_type": "code",
      "execution_count": 86,
      "metadata": {
        "id": "4_0ZAZsrbbfm"
      },
      "outputs": [],
      "source": [
        "from sklearn.metrics import confusion_matrix, recall_score"
      ]
    },
    {
      "cell_type": "code",
      "execution_count": 94,
      "metadata": {
        "id": "oofroqB0daaO",
        "colab": {
          "base_uri": "https://localhost:8080/"
        },
        "outputId": "c02f2e5d-961d-45a8-af61-03a2cd0fde1d"
      },
      "outputs": [
        {
          "output_type": "execute_result",
          "data": {
            "text/plain": [
              "0.7708719851576994"
            ]
          },
          "metadata": {},
          "execution_count": 94
        }
      ],
      "source": [
        "recall_score(y_prediction, y_test)"
      ]
    },
    {
      "cell_type": "code",
      "execution_count": 95,
      "metadata": {
        "id": "YPjkw1gLdqXr"
      },
      "outputs": [],
      "source": [
        "cm = confusion_matrix(y_prediction, y_test)"
      ]
    },
    {
      "cell_type": "code",
      "execution_count": 89,
      "metadata": {
        "id": "9LKjnL8bdyUV",
        "colab": {
          "base_uri": "https://localhost:8080/"
        },
        "outputId": "5d7c5c4c-3691-45fd-cffa-2fc220ba156e"
      },
      "outputs": [
        {
          "output_type": "execute_result",
          "data": {
            "text/plain": [
              "array([[28165,   757],\n",
              "       [  247,   831]])"
            ]
          },
          "metadata": {},
          "execution_count": 89
        }
      ],
      "source": [
        "cm"
      ]
    },
    {
      "cell_type": "code",
      "execution_count": 96,
      "metadata": {
        "id": "MaKjhyHLdzJE"
      },
      "outputs": [],
      "source": [
        "import shap"
      ]
    },
    {
      "cell_type": "code",
      "execution_count": 91,
      "metadata": {
        "id": "z_oy3osOd2YU"
      },
      "outputs": [],
      "source": [
        "shap_tree = shap.TreeExplainer(model)"
      ]
    },
    {
      "cell_type": "code",
      "execution_count": 92,
      "metadata": {
        "id": "UWRapGZSeSNz"
      },
      "outputs": [],
      "source": [
        "values = shap_tree.shap_values(x_test)"
      ]
    },
    {
      "cell_type": "code",
      "execution_count": 93,
      "metadata": {
        "id": "-GRrhvMCed5-",
        "colab": {
          "base_uri": "https://localhost:8080/",
          "height": 957
        },
        "outputId": "25359d01-55a8-4932-f9e3-ceb4a40ef0d5"
      },
      "outputs": [
        {
          "output_type": "display_data",
          "data": {
            "text/plain": [
              "<Figure size 800x950 with 2 Axes>"
            ],
            "image/png": "[encoded data removed]"
          },
          "metadata": {}
        }
      ],
      "source": [
        "shap.summary_plot(values,x_test)"
      ]
    }
  ],
  "metadata": {
    "colab": {
      "provenance": []
    },
    "kernelspec": {
      "display_name": "Python 3",
      "name": "python3"
    },
    "language_info": {
      "name": "python"
    }
  },
  "nbformat": 4,
  "nbformat_minor": 0
}